{
 "cells": [
  {
   "cell_type": "code",
   "execution_count": 2,
   "id": "08f9a20e",
   "metadata": {},
   "outputs": [],
   "source": [
    "# Set working drive\n",
    "setwd(\"~\")"
   ]
  },
  {
   "cell_type": "code",
   "execution_count": 3,
   "id": "5aab60ac",
   "metadata": {},
   "outputs": [
    {
     "name": "stderr",
     "output_type": "stream",
     "text": [
      "Warning message:\n",
      "\"package 'dplyr' was built under R version 3.6.3\"\n",
      "Attaching package: 'dplyr'\n",
      "\n",
      "The following objects are masked from 'package:stats':\n",
      "\n",
      "    filter, lag\n",
      "\n",
      "The following objects are masked from 'package:base':\n",
      "\n",
      "    intersect, setdiff, setequal, union\n",
      "\n",
      "Warning message:\n",
      "\"package 'lubridate' was built under R version 3.6.3\"\n",
      "Attaching package: 'lubridate'\n",
      "\n",
      "The following objects are masked from 'package:base':\n",
      "\n",
      "    date, intersect, setdiff, union\n",
      "\n",
      "Warning message:\n",
      "\"package 'tidyr' was built under R version 3.6.3\"Warning message:\n",
      "\"package 'openxlsx' was built under R version 3.6.3\"Warning message:\n",
      "\"package 'tidyverse' was built under R version 3.6.3\""
     ]
    },
    {
     "ename": "ERROR",
     "evalue": "Error: package or namespace load failed for 'tidyverse' in loadNamespace(j <- i[[1L]], c(lib.loc, .libPaths()), versionCheck = vI[[j]]):\n namespace 'jsonlite' 1.6 is already loaded, but >= 1.7.2 is required\n",
     "output_type": "error",
     "traceback": [
      "Error: package or namespace load failed for 'tidyverse' in loadNamespace(j <- i[[1L]], c(lib.loc, .libPaths()), versionCheck = vI[[j]]):\n namespace 'jsonlite' 1.6 is already loaded, but >= 1.7.2 is required\nTraceback:\n",
      "1. library(tidyverse)",
      "2. tryCatch({\n .     attr(package, \"LibPath\") <- which.lib.loc\n .     ns <- loadNamespace(package, lib.loc)\n .     env <- attachNamespace(ns, pos = pos, deps, exclude, include.only)\n . }, error = function(e) {\n .     P <- if (!is.null(cc <- conditionCall(e))) \n .         paste(\" in\", deparse(cc)[1L])\n .     else \"\"\n .     msg <- gettextf(\"package or namespace load failed for %s%s:\\n %s\", \n .         sQuote(package), P, conditionMessage(e))\n .     if (logical.return) \n .         message(paste(\"Error:\", msg), domain = NA)\n .     else stop(msg, call. = FALSE, domain = NA)\n . })",
      "3. tryCatchList(expr, classes, parentenv, handlers)",
      "4. tryCatchOne(expr, names, parentenv, handlers[[1L]])",
      "5. value[[3L]](cond)",
      "6. stop(msg, call. = FALSE, domain = NA)"
     ]
    }
   ],
   "source": [
    "library(dplyr)\n",
    "library(lubridate)\n",
    "library(readxl)\n",
    "library(tidyr)\n",
    "library(openxlsx)\n",
    "library(tidyverse)"
   ]
  },
  {
   "cell_type": "code",
   "execution_count": 4,
   "id": "86724321",
   "metadata": {},
   "outputs": [
    {
     "name": "stderr",
     "output_type": "stream",
     "text": [
      "Warning message in read_fun(path = enc2native(normalizePath(path)), sheet_i = sheet, :\n",
      "\"Coercing numeric to date J17449 / R17449C10\"Warning message in read_fun(path = enc2native(normalizePath(path)), sheet_i = sheet, :\n",
      "\"NA inserted for impossible 1900-02-29 datetime\"New names:\n",
      "* `` -> ...29\n"
     ]
    }
   ],
   "source": [
    "# Read in Uber data\n",
    "uber <- read_excel(\"Uber_peru_2010.xlsx\", 3) \n",
    "uber <- as.data.frame(uber)"
   ]
  },
  {
   "cell_type": "code",
   "execution_count": 6,
   "id": "e7ef3295",
   "metadata": {},
   "outputs": [
    {
     "name": "stdout",
     "output_type": "stream",
     "text": [
      "'data.frame':\t23111 obs. of  29 variables:\n",
      " $ journey_id      : chr  \"23a1406fc6a11d866e3c82f22eed4d4c\" \"dd2af4715d0dc16eded53afc0e243577\" \"dd91e131888064bf7df3ce08f3d4b4ad\" \"dd2af4715d0dc16eded53afc0e2466d0\" ...\n",
      " $ user_id         : chr  \"0e9af5bbf1edfe591b54ecdfd7e91e26\" \"a553c46e3a22fb9c326aeb3d72b3334e\" \"a553c46e3a22fb9c326aeb3d72b3334e\" \"a553c46e3a22fb9c326aeb3d72b3334e\" ...\n",
      " $ driver_id       : chr  \"583949a89a9ee17d19e3ca4f137b6b4c\" NA NA NA ...\n",
      " $ taxi_id         : chr  \"b12f4f09c783e29fe0d0ea624530db56\" NA NA NA ...\n",
      " $ icon            : chr  \"executive\" \"executive\" \"executive\" \"executive\" ...\n",
      " $ start_type      : chr  \"asap\" \"asap\" \"asap\" \"asap\" ...\n",
      " $ start_at        : POSIXct, format: \"2010-11-16 16:44:00\" \"2010-06-01 00:34:00\" ...\n",
      " $ start_lat       : chr  \"-12.139835359999999\" \"-12.13874817\" \"-12.12453079\" \"-12.13885117\" ...\n",
      " $ start_lon       : chr  \"-77.2355957\" \"-76.99536133\" \"-77.2780151\" \"-76.99530029\" ...\n",
      " $ end_at          : POSIXct, format: \"2010-11-16 17:29:00\" \"2010-06-01 00:37:00\" ...\n",
      " $ end_lat         : chr  \"-12.5537033\" \"-12.12465668\" \"-12.13883209\" \"-12.12458801\" ...\n",
      " $ end_lon         : chr  \"-77.413208\" \"-77.2886963\" \"-76.99530029\" \"-77.2896118\" ...\n",
      " $ end_state       : chr  \"drop off\" \"not found\" \"not found\" \"not found\" ...\n",
      " $ driver_start_lat: chr  \"-12.10825481\" \".\" \".\" \".\" ...\n",
      " $ driver_start_lon: chr  \"-77.272739\" \".\" \".\" \".\" ...\n",
      " $ arrived_at      : POSIXct, format: \"2010-11-16 17:02:00\" NA ...\n",
      " $ currency        : chr  \"PEN\" NA NA NA ...\n",
      " $ price           : num  3821 NA NA NA 8227 ...\n",
      " $ price_distance  : num  3626 NA NA NA 7665 ...\n",
      " $ price_duration  : num  195 NA NA NA 562 ...\n",
      " $ distance        : num  11331 NA NA NA 30270 ...\n",
      " $ duration        : num  234 NA NA NA 715 ...\n",
      " $ cost            : num  0 NA NA NA 6173 ...\n",
      " $ cost_distance   : num  0 NA NA NA 5756 ...\n",
      " $ cost_duration   : num  0 NA NA NA 417 700 0 143 58 418 ...\n",
      " $ source          : chr  \"iPhone\" NA NA NA ...\n",
      " $ driver_score    : num  5 NA NA NA 4 NA 5 5 0 5 ...\n",
      " $ rider_score     : num  5 NA NA NA 5 4 5 5 4 5 ...\n",
      " $ ...29           : num  NA NA NA NA NA NA NA NA NA NA ...\n"
     ]
    }
   ],
   "source": [
    "# Check out data \n",
    "str(uber)"
   ]
  },
  {
   "cell_type": "code",
   "execution_count": 7,
   "id": "efc31423",
   "metadata": {},
   "outputs": [
    {
     "data": {
      "text/html": [
       "<table>\n",
       "<thead><tr><th scope=col>journey_id</th><th scope=col>user_id</th><th scope=col>driver_id</th><th scope=col>taxi_id</th><th scope=col>icon</th><th scope=col>start_type</th><th scope=col>start_at</th><th scope=col>start_lat</th><th scope=col>start_lon</th><th scope=col>end_at</th><th scope=col>...</th><th scope=col>price_duration</th><th scope=col>distance</th><th scope=col>duration</th><th scope=col>cost</th><th scope=col>cost_distance</th><th scope=col>cost_duration</th><th scope=col>source</th><th scope=col>driver_score</th><th scope=col>rider_score</th><th scope=col>...29</th></tr></thead>\n",
       "<tbody>\n",
       "\t<tr><td>23a1406fc6a11d866e3c82f22eed4d4c</td><td>0e9af5bbf1edfe591b54ecdfd7e91e26</td><td>583949a89a9ee17d19e3ca4f137b6b4c</td><td>b12f4f09c783e29fe0d0ea624530db56</td><td>executive                       </td><td>asap                            </td><td>2010-11-16 16:44:00             </td><td>-12.139835359999999             </td><td>-77.2355957                     </td><td>2010-11-16 17:29:00             </td><td>...                             </td><td> 195                            </td><td>11331                           </td><td> 234                            </td><td>   0                            </td><td>   0                            </td><td>  0                             </td><td>iPhone                          </td><td> 5                              </td><td> 5                              </td><td>NA                              </td></tr>\n",
       "\t<tr><td>dd2af4715d0dc16eded53afc0e243577</td><td>a553c46e3a22fb9c326aeb3d72b3334e</td><td>NA                              </td><td>NA                              </td><td>executive                       </td><td>asap                            </td><td>2010-06-01 00:34:00             </td><td>-12.13874817                    </td><td>-76.99536133                    </td><td>2010-06-01 00:37:00             </td><td>...                             </td><td>  NA                            </td><td>   NA                           </td><td>  NA                            </td><td>  NA                            </td><td>  NA                            </td><td> NA                             </td><td>NA                              </td><td>NA                              </td><td>NA                              </td><td>NA                              </td></tr>\n",
       "\t<tr><td>dd91e131888064bf7df3ce08f3d4b4ad</td><td>a553c46e3a22fb9c326aeb3d72b3334e</td><td>NA                              </td><td>NA                              </td><td>executive                       </td><td>asap                            </td><td>2010-05-31 05:01:00             </td><td>-12.12453079                    </td><td>-77.2780151                     </td><td>2010-05-31 05:04:00             </td><td>...                             </td><td>  NA                            </td><td>   NA                           </td><td>  NA                            </td><td>  NA                            </td><td>  NA                            </td><td> NA                             </td><td>NA                              </td><td>NA                              </td><td>NA                              </td><td>NA                              </td></tr>\n",
       "\t<tr><td>dd2af4715d0dc16eded53afc0e2466d0</td><td>a553c46e3a22fb9c326aeb3d72b3334e</td><td>NA                              </td><td>NA                              </td><td>executive                       </td><td>asap                            </td><td>2010-06-01 00:29:00             </td><td>-12.13885117                    </td><td>-76.99530029                    </td><td>2010-06-01 00:32:00             </td><td>...                             </td><td>  NA                            </td><td>   NA                           </td><td>  NA                            </td><td>  NA                            </td><td>  NA                            </td><td> NA                             </td><td>NA                              </td><td>NA                              </td><td>NA                              </td><td>NA                              </td></tr>\n",
       "\t<tr><td>85b7eabcf5d84e42dc7629b7d27781af</td><td>56772d544fdfa589a020a1ff894a86f7</td><td>d665fb9f75ef5d9cd0fd89479380ba78</td><td>0accdd3aa5a322f4129fa20b53278c69</td><td>executive                       </td><td>reserved                        </td><td>2010-09-11 23:55:00             </td><td>-12.8995438                     </td><td>-76.92626953                    </td><td>2010-09-12 01:07:00             </td><td>...                             </td><td> 562                            </td><td>30270                           </td><td> 715                            </td><td>6173                            </td><td>5756                            </td><td>417                             </td><td>iPhone                          </td><td> 4                              </td><td> 5                              </td><td>NA                              </td></tr>\n",
       "\t<tr><td>2254715f0f569e3173ec61f16cbb8341</td><td>56772d544fdfa589a020a1ff894a86f7</td><td>baacf396f773709519bbde35a5eab861</td><td>baacf396f773709519bbde35a585d91b</td><td>executive                       </td><td>reserved                        </td><td>2010-08-10 13:00:00             </td><td>-12.2241898                     </td><td>-77.10650635                    </td><td>2010-08-10 14:26:00             </td><td>...                             </td><td>1001                            </td><td>29080                           </td><td>1201                            </td><td>5875                            </td><td>5175                            </td><td>700                             </td><td>iPhone                          </td><td>NA                              </td><td> 4                              </td><td>NA                              </td></tr>\n",
       "</tbody>\n",
       "</table>\n"
      ],
      "text/latex": [
       "\\begin{tabular}{r|lllllllllllllllllllllllllllll}\n",
       " journey\\_id & user\\_id & driver\\_id & taxi\\_id & icon & start\\_type & start\\_at & start\\_lat & start\\_lon & end\\_at & ... & price\\_duration & distance & duration & cost & cost\\_distance & cost\\_duration & source & driver\\_score & rider\\_score & ...29\\\\\n",
       "\\hline\n",
       "\t 23a1406fc6a11d866e3c82f22eed4d4c & 0e9af5bbf1edfe591b54ecdfd7e91e26 & 583949a89a9ee17d19e3ca4f137b6b4c & b12f4f09c783e29fe0d0ea624530db56 & executive                        & asap                             & 2010-11-16 16:44:00              & -12.139835359999999              & -77.2355957                      & 2010-11-16 17:29:00              & ...                              &  195                             & 11331                            &  234                             &    0                             &    0                             &   0                              & iPhone                           &  5                               &  5                               & NA                              \\\\\n",
       "\t dd2af4715d0dc16eded53afc0e243577 & a553c46e3a22fb9c326aeb3d72b3334e & NA                               & NA                               & executive                        & asap                             & 2010-06-01 00:34:00              & -12.13874817                     & -76.99536133                     & 2010-06-01 00:37:00              & ...                              &   NA                             &    NA                            &   NA                             &   NA                             &   NA                             &  NA                              & NA                               & NA                               & NA                               & NA                              \\\\\n",
       "\t dd91e131888064bf7df3ce08f3d4b4ad & a553c46e3a22fb9c326aeb3d72b3334e & NA                               & NA                               & executive                        & asap                             & 2010-05-31 05:01:00              & -12.12453079                     & -77.2780151                      & 2010-05-31 05:04:00              & ...                              &   NA                             &    NA                            &   NA                             &   NA                             &   NA                             &  NA                              & NA                               & NA                               & NA                               & NA                              \\\\\n",
       "\t dd2af4715d0dc16eded53afc0e2466d0 & a553c46e3a22fb9c326aeb3d72b3334e & NA                               & NA                               & executive                        & asap                             & 2010-06-01 00:29:00              & -12.13885117                     & -76.99530029                     & 2010-06-01 00:32:00              & ...                              &   NA                             &    NA                            &   NA                             &   NA                             &   NA                             &  NA                              & NA                               & NA                               & NA                               & NA                              \\\\\n",
       "\t 85b7eabcf5d84e42dc7629b7d27781af & 56772d544fdfa589a020a1ff894a86f7 & d665fb9f75ef5d9cd0fd89479380ba78 & 0accdd3aa5a322f4129fa20b53278c69 & executive                        & reserved                         & 2010-09-11 23:55:00              & -12.8995438                      & -76.92626953                     & 2010-09-12 01:07:00              & ...                              &  562                             & 30270                            &  715                             & 6173                             & 5756                             & 417                              & iPhone                           &  4                               &  5                               & NA                              \\\\\n",
       "\t 2254715f0f569e3173ec61f16cbb8341 & 56772d544fdfa589a020a1ff894a86f7 & baacf396f773709519bbde35a5eab861 & baacf396f773709519bbde35a585d91b & executive                        & reserved                         & 2010-08-10 13:00:00              & -12.2241898                      & -77.10650635                     & 2010-08-10 14:26:00              & ...                              & 1001                             & 29080                            & 1201                             & 5875                             & 5175                             & 700                              & iPhone                           & NA                               &  4                               & NA                              \\\\\n",
       "\\end{tabular}\n"
      ],
      "text/markdown": [
       "\n",
       "| journey_id | user_id | driver_id | taxi_id | icon | start_type | start_at | start_lat | start_lon | end_at | ... | price_duration | distance | duration | cost | cost_distance | cost_duration | source | driver_score | rider_score | ...29 |\n",
       "|---|---|---|---|---|---|---|---|---|---|---|---|---|---|---|---|---|---|---|---|---|\n",
       "| 23a1406fc6a11d866e3c82f22eed4d4c | 0e9af5bbf1edfe591b54ecdfd7e91e26 | 583949a89a9ee17d19e3ca4f137b6b4c | b12f4f09c783e29fe0d0ea624530db56 | executive                        | asap                             | 2010-11-16 16:44:00              | -12.139835359999999              | -77.2355957                      | 2010-11-16 17:29:00              | ...                              |  195                             | 11331                            |  234                             |    0                             |    0                             |   0                              | iPhone                           |  5                               |  5                               | NA                               |\n",
       "| dd2af4715d0dc16eded53afc0e243577 | a553c46e3a22fb9c326aeb3d72b3334e | NA                               | NA                               | executive                        | asap                             | 2010-06-01 00:34:00              | -12.13874817                     | -76.99536133                     | 2010-06-01 00:37:00              | ...                              |   NA                             |    NA                            |   NA                             |   NA                             |   NA                             |  NA                              | NA                               | NA                               | NA                               | NA                               |\n",
       "| dd91e131888064bf7df3ce08f3d4b4ad | a553c46e3a22fb9c326aeb3d72b3334e | NA                               | NA                               | executive                        | asap                             | 2010-05-31 05:01:00              | -12.12453079                     | -77.2780151                      | 2010-05-31 05:04:00              | ...                              |   NA                             |    NA                            |   NA                             |   NA                             |   NA                             |  NA                              | NA                               | NA                               | NA                               | NA                               |\n",
       "| dd2af4715d0dc16eded53afc0e2466d0 | a553c46e3a22fb9c326aeb3d72b3334e | NA                               | NA                               | executive                        | asap                             | 2010-06-01 00:29:00              | -12.13885117                     | -76.99530029                     | 2010-06-01 00:32:00              | ...                              |   NA                             |    NA                            |   NA                             |   NA                             |   NA                             |  NA                              | NA                               | NA                               | NA                               | NA                               |\n",
       "| 85b7eabcf5d84e42dc7629b7d27781af | 56772d544fdfa589a020a1ff894a86f7 | d665fb9f75ef5d9cd0fd89479380ba78 | 0accdd3aa5a322f4129fa20b53278c69 | executive                        | reserved                         | 2010-09-11 23:55:00              | -12.8995438                      | -76.92626953                     | 2010-09-12 01:07:00              | ...                              |  562                             | 30270                            |  715                             | 6173                             | 5756                             | 417                              | iPhone                           |  4                               |  5                               | NA                               |\n",
       "| 2254715f0f569e3173ec61f16cbb8341 | 56772d544fdfa589a020a1ff894a86f7 | baacf396f773709519bbde35a5eab861 | baacf396f773709519bbde35a585d91b | executive                        | reserved                         | 2010-08-10 13:00:00              | -12.2241898                      | -77.10650635                     | 2010-08-10 14:26:00              | ...                              | 1001                             | 29080                            | 1201                             | 5875                             | 5175                             | 700                              | iPhone                           | NA                               |  4                               | NA                               |\n",
       "\n"
      ],
      "text/plain": [
       "  journey_id                       user_id                         \n",
       "1 23a1406fc6a11d866e3c82f22eed4d4c 0e9af5bbf1edfe591b54ecdfd7e91e26\n",
       "2 dd2af4715d0dc16eded53afc0e243577 a553c46e3a22fb9c326aeb3d72b3334e\n",
       "3 dd91e131888064bf7df3ce08f3d4b4ad a553c46e3a22fb9c326aeb3d72b3334e\n",
       "4 dd2af4715d0dc16eded53afc0e2466d0 a553c46e3a22fb9c326aeb3d72b3334e\n",
       "5 85b7eabcf5d84e42dc7629b7d27781af 56772d544fdfa589a020a1ff894a86f7\n",
       "6 2254715f0f569e3173ec61f16cbb8341 56772d544fdfa589a020a1ff894a86f7\n",
       "  driver_id                        taxi_id                          icon     \n",
       "1 583949a89a9ee17d19e3ca4f137b6b4c b12f4f09c783e29fe0d0ea624530db56 executive\n",
       "2 NA                               NA                               executive\n",
       "3 NA                               NA                               executive\n",
       "4 NA                               NA                               executive\n",
       "5 d665fb9f75ef5d9cd0fd89479380ba78 0accdd3aa5a322f4129fa20b53278c69 executive\n",
       "6 baacf396f773709519bbde35a5eab861 baacf396f773709519bbde35a585d91b executive\n",
       "  start_type start_at            start_lat           start_lon   \n",
       "1 asap       2010-11-16 16:44:00 -12.139835359999999 -77.2355957 \n",
       "2 asap       2010-06-01 00:34:00 -12.13874817        -76.99536133\n",
       "3 asap       2010-05-31 05:01:00 -12.12453079        -77.2780151 \n",
       "4 asap       2010-06-01 00:29:00 -12.13885117        -76.99530029\n",
       "5 reserved   2010-09-11 23:55:00 -12.8995438         -76.92626953\n",
       "6 reserved   2010-08-10 13:00:00 -12.2241898         -77.10650635\n",
       "  end_at              ... price_duration distance duration cost cost_distance\n",
       "1 2010-11-16 17:29:00 ...  195           11331     234        0    0         \n",
       "2 2010-06-01 00:37:00 ...   NA              NA      NA       NA   NA         \n",
       "3 2010-05-31 05:04:00 ...   NA              NA      NA       NA   NA         \n",
       "4 2010-06-01 00:32:00 ...   NA              NA      NA       NA   NA         \n",
       "5 2010-09-12 01:07:00 ...  562           30270     715     6173 5756         \n",
       "6 2010-08-10 14:26:00 ... 1001           29080    1201     5875 5175         \n",
       "  cost_duration source driver_score rider_score ...29\n",
       "1   0           iPhone  5            5          NA   \n",
       "2  NA           NA     NA           NA          NA   \n",
       "3  NA           NA     NA           NA          NA   \n",
       "4  NA           NA     NA           NA          NA   \n",
       "5 417           iPhone  4            5          NA   \n",
       "6 700           iPhone NA            4          NA   "
      ]
     },
     "metadata": {},
     "output_type": "display_data"
    }
   ],
   "source": [
    "head(uber)"
   ]
  },
  {
   "cell_type": "code",
   "execution_count": 8,
   "id": "de2b3836",
   "metadata": {},
   "outputs": [],
   "source": [
    "# Eliminate unwanted columns\n",
    "uber <- uber %>% select(-c(journey_id, user_id, driver_id, taxi_id, driver_start_lat, driver_start_lon, currency, ...29))"
   ]
  },
  {
   "cell_type": "code",
   "execution_count": 9,
   "id": "3528d048",
   "metadata": {},
   "outputs": [
    {
     "name": "stdout",
     "output_type": "stream",
     "text": [
      "'data.frame':\t23111 obs. of  21 variables:\n",
      " $ icon          : chr  \"executive\" \"executive\" \"executive\" \"executive\" ...\n",
      " $ start_type    : chr  \"asap\" \"asap\" \"asap\" \"asap\" ...\n",
      " $ start_at      : POSIXct, format: \"2010-11-16 16:44:00\" \"2010-06-01 00:34:00\" ...\n",
      " $ start_lat     : chr  \"-12.139835359999999\" \"-12.13874817\" \"-12.12453079\" \"-12.13885117\" ...\n",
      " $ start_lon     : chr  \"-77.2355957\" \"-76.99536133\" \"-77.2780151\" \"-76.99530029\" ...\n",
      " $ end_at        : POSIXct, format: \"2010-11-16 17:29:00\" \"2010-06-01 00:37:00\" ...\n",
      " $ end_lat       : chr  \"-12.5537033\" \"-12.12465668\" \"-12.13883209\" \"-12.12458801\" ...\n",
      " $ end_lon       : chr  \"-77.413208\" \"-77.2886963\" \"-76.99530029\" \"-77.2896118\" ...\n",
      " $ end_state     : chr  \"drop off\" \"not found\" \"not found\" \"not found\" ...\n",
      " $ arrived_at    : POSIXct, format: \"2010-11-16 17:02:00\" NA ...\n",
      " $ price         : num  3821 NA NA NA 8227 ...\n",
      " $ price_distance: num  3626 NA NA NA 7665 ...\n",
      " $ price_duration: num  195 NA NA NA 562 ...\n",
      " $ distance      : num  11331 NA NA NA 30270 ...\n",
      " $ duration      : num  234 NA NA NA 715 ...\n",
      " $ cost          : num  0 NA NA NA 6173 ...\n",
      " $ cost_distance : num  0 NA NA NA 5756 ...\n",
      " $ cost_duration : num  0 NA NA NA 417 700 0 143 58 418 ...\n",
      " $ source        : chr  \"iPhone\" NA NA NA ...\n",
      " $ driver_score  : num  5 NA NA NA 4 NA 5 5 0 5 ...\n",
      " $ rider_score   : num  5 NA NA NA 5 4 5 5 4 5 ...\n"
     ]
    }
   ],
   "source": [
    "# Check uber again\n",
    "str(uber)"
   ]
  },
  {
   "cell_type": "code",
   "execution_count": 10,
   "id": "14a06a1f",
   "metadata": {},
   "outputs": [],
   "source": [
    "# Extracting from start and end datetimes using lubridate\n",
    "uber <- uber %>%\n",
    "  mutate(\n",
    "    Start_Yr = year(`start_at`),\n",
    "    Start_Mth = month(`start_at`),\n",
    "    Start_Hr = hour(`start_at`)\n",
    "  )\n",
    "\n",
    "uber <- uber %>%\n",
    "  mutate(\n",
    "    End_Yr = year(`end_at`),\n",
    "    End_Mth = month(`end_at`),\n",
    "    End_Hr = hour(`end_at`)\n",
    "  )"
   ]
  },
  {
   "cell_type": "code",
   "execution_count": 11,
   "id": "e2bc2798",
   "metadata": {},
   "outputs": [
    {
     "name": "stdout",
     "output_type": "stream",
     "text": [
      "'data.frame':\t23111 obs. of  27 variables:\n",
      " $ icon          : chr  \"executive\" \"executive\" \"executive\" \"executive\" ...\n",
      " $ start_type    : chr  \"asap\" \"asap\" \"asap\" \"asap\" ...\n",
      " $ start_at      : POSIXct, format: \"2010-11-16 16:44:00\" \"2010-06-01 00:34:00\" ...\n",
      " $ start_lat     : chr  \"-12.139835359999999\" \"-12.13874817\" \"-12.12453079\" \"-12.13885117\" ...\n",
      " $ start_lon     : chr  \"-77.2355957\" \"-76.99536133\" \"-77.2780151\" \"-76.99530029\" ...\n",
      " $ end_at        : POSIXct, format: \"2010-11-16 17:29:00\" \"2010-06-01 00:37:00\" ...\n",
      " $ end_lat       : chr  \"-12.5537033\" \"-12.12465668\" \"-12.13883209\" \"-12.12458801\" ...\n",
      " $ end_lon       : chr  \"-77.413208\" \"-77.2886963\" \"-76.99530029\" \"-77.2896118\" ...\n",
      " $ end_state     : chr  \"drop off\" \"not found\" \"not found\" \"not found\" ...\n",
      " $ arrived_at    : POSIXct, format: \"2010-11-16 17:02:00\" NA ...\n",
      " $ price         : num  3821 NA NA NA 8227 ...\n",
      " $ price_distance: num  3626 NA NA NA 7665 ...\n",
      " $ price_duration: num  195 NA NA NA 562 ...\n",
      " $ distance      : num  11331 NA NA NA 30270 ...\n",
      " $ duration      : num  234 NA NA NA 715 ...\n",
      " $ cost          : num  0 NA NA NA 6173 ...\n",
      " $ cost_distance : num  0 NA NA NA 5756 ...\n",
      " $ cost_duration : num  0 NA NA NA 417 700 0 143 58 418 ...\n",
      " $ source        : chr  \"iPhone\" NA NA NA ...\n",
      " $ driver_score  : num  5 NA NA NA 4 NA 5 5 0 5 ...\n",
      " $ rider_score   : num  5 NA NA NA 5 4 5 5 4 5 ...\n",
      " $ Start_Yr      : num  2010 2010 2010 2010 2010 2010 2010 2010 2010 2010 ...\n",
      " $ Start_Mth     : num  11 6 5 6 9 8 8 5 7 11 ...\n",
      " $ Start_Hr      : int  16 0 5 0 23 13 12 3 5 23 ...\n",
      " $ End_Yr        : num  2010 2010 2010 2010 2010 2010 2010 2010 2010 2010 ...\n",
      " $ End_Mth       : num  11 6 5 6 9 8 8 5 7 11 ...\n",
      " $ End_Hr        : int  17 0 5 0 1 14 12 4 6 0 ...\n"
     ]
    }
   ],
   "source": [
    "# Check uber data\n",
    "str(uber)"
   ]
  },
  {
   "cell_type": "code",
   "execution_count": 12,
   "id": "967277e6",
   "metadata": {},
   "outputs": [],
   "source": [
    "# Import in 2010 Temperature records\n",
    "Temp <- read_excel(\"Peru 2010 Temp.xlsx\", 1) \n",
    "Temp <- as.data.frame(Temp)"
   ]
  },
  {
   "cell_type": "code",
   "execution_count": 13,
   "id": "45b4f7c2",
   "metadata": {},
   "outputs": [
    {
     "name": "stdout",
     "output_type": "stream",
     "text": [
      "'data.frame':\t12 obs. of  5 variables:\n",
      " $ Year   : num  2010 2010 2010 2010 2010 2010 2010 2010 2010 2010 ...\n",
      " $ Month  : num  1 2 3 4 5 6 7 8 9 10 ...\n",
      " $ Min    : num  17 19 17 17 16 14 13 13 13 13 ...\n",
      " $ Average: num  24 24 24 23 22 20 19 18 19 19 ...\n",
      " $ Max    : num  27 27 27 27 26 24 23 22 22 22 ...\n"
     ]
    },
    {
     "data": {
      "text/html": [
       "<table>\n",
       "<thead><tr><th scope=col>Year</th><th scope=col>Month</th><th scope=col>Min</th><th scope=col>Average</th><th scope=col>Max</th></tr></thead>\n",
       "<tbody>\n",
       "\t<tr><td>2010</td><td>1   </td><td>17  </td><td>24  </td><td>27  </td></tr>\n",
       "\t<tr><td>2010</td><td>2   </td><td>19  </td><td>24  </td><td>27  </td></tr>\n",
       "\t<tr><td>2010</td><td>3   </td><td>17  </td><td>24  </td><td>27  </td></tr>\n",
       "\t<tr><td>2010</td><td>4   </td><td>17  </td><td>23  </td><td>27  </td></tr>\n",
       "\t<tr><td>2010</td><td>5   </td><td>16  </td><td>22  </td><td>26  </td></tr>\n",
       "\t<tr><td>2010</td><td>6   </td><td>14  </td><td>20  </td><td>24  </td></tr>\n",
       "</tbody>\n",
       "</table>\n"
      ],
      "text/latex": [
       "\\begin{tabular}{r|lllll}\n",
       " Year & Month & Min & Average & Max\\\\\n",
       "\\hline\n",
       "\t 2010 & 1    & 17   & 24   & 27  \\\\\n",
       "\t 2010 & 2    & 19   & 24   & 27  \\\\\n",
       "\t 2010 & 3    & 17   & 24   & 27  \\\\\n",
       "\t 2010 & 4    & 17   & 23   & 27  \\\\\n",
       "\t 2010 & 5    & 16   & 22   & 26  \\\\\n",
       "\t 2010 & 6    & 14   & 20   & 24  \\\\\n",
       "\\end{tabular}\n"
      ],
      "text/markdown": [
       "\n",
       "| Year | Month | Min | Average | Max |\n",
       "|---|---|---|---|---|\n",
       "| 2010 | 1    | 17   | 24   | 27   |\n",
       "| 2010 | 2    | 19   | 24   | 27   |\n",
       "| 2010 | 3    | 17   | 24   | 27   |\n",
       "| 2010 | 4    | 17   | 23   | 27   |\n",
       "| 2010 | 5    | 16   | 22   | 26   |\n",
       "| 2010 | 6    | 14   | 20   | 24   |\n",
       "\n"
      ],
      "text/plain": [
       "  Year Month Min Average Max\n",
       "1 2010 1     17  24      27 \n",
       "2 2010 2     19  24      27 \n",
       "3 2010 3     17  24      27 \n",
       "4 2010 4     17  23      27 \n",
       "5 2010 5     16  22      26 \n",
       "6 2010 6     14  20      24 "
      ]
     },
     "metadata": {},
     "output_type": "display_data"
    }
   ],
   "source": [
    "# Check Temp\n",
    "str(Temp)\n",
    "head(Temp)"
   ]
  },
  {
   "cell_type": "code",
   "execution_count": 14,
   "id": "2fe6037b",
   "metadata": {},
   "outputs": [],
   "source": [
    "# Tidy Temp \n",
    "Temp2 <- Temp %>% pivot_longer(c('Min', 'Average', 'Max'))%>% select(-Year) "
   ]
  },
  {
   "cell_type": "code",
   "execution_count": 15,
   "id": "dd5b1afc",
   "metadata": {},
   "outputs": [],
   "source": [
    "# Rename Temp columns\n",
    "colnames(Temp2) <- c('Month', 'Time', 'Temp')"
   ]
  },
  {
   "cell_type": "code",
   "execution_count": 16,
   "id": "d8628f07",
   "metadata": {},
   "outputs": [
    {
     "data": {
      "text/html": [
       "<table>\n",
       "<thead><tr><th scope=col>Month</th><th scope=col>Time</th><th scope=col>Temp</th></tr></thead>\n",
       "<tbody>\n",
       "\t<tr><td>1      </td><td>Min    </td><td>17     </td></tr>\n",
       "\t<tr><td>1      </td><td>Average</td><td>24     </td></tr>\n",
       "\t<tr><td>1      </td><td>Max    </td><td>27     </td></tr>\n",
       "\t<tr><td>2      </td><td>Min    </td><td>19     </td></tr>\n",
       "\t<tr><td>2      </td><td>Average</td><td>24     </td></tr>\n",
       "\t<tr><td>2      </td><td>Max    </td><td>27     </td></tr>\n",
       "</tbody>\n",
       "</table>\n"
      ],
      "text/latex": [
       "\\begin{tabular}{r|lll}\n",
       " Month & Time & Temp\\\\\n",
       "\\hline\n",
       "\t 1       & Min     & 17     \\\\\n",
       "\t 1       & Average & 24     \\\\\n",
       "\t 1       & Max     & 27     \\\\\n",
       "\t 2       & Min     & 19     \\\\\n",
       "\t 2       & Average & 24     \\\\\n",
       "\t 2       & Max     & 27     \\\\\n",
       "\\end{tabular}\n"
      ],
      "text/markdown": [
       "\n",
       "| Month | Time | Temp |\n",
       "|---|---|---|\n",
       "| 1       | Min     | 17      |\n",
       "| 1       | Average | 24      |\n",
       "| 1       | Max     | 27      |\n",
       "| 2       | Min     | 19      |\n",
       "| 2       | Average | 24      |\n",
       "| 2       | Max     | 27      |\n",
       "\n"
      ],
      "text/plain": [
       "  Month Time    Temp\n",
       "1 1     Min     17  \n",
       "2 1     Average 24  \n",
       "3 1     Max     27  \n",
       "4 2     Min     19  \n",
       "5 2     Average 24  \n",
       "6 2     Max     27  "
      ]
     },
     "metadata": {},
     "output_type": "display_data"
    }
   ],
   "source": [
    "# Check Temp data\n",
    "head(Temp2)"
   ]
  },
  {
   "cell_type": "code",
   "execution_count": 17,
   "id": "ec775c86",
   "metadata": {},
   "outputs": [],
   "source": [
    "# Create variable for hours in Min, Max, Average in Uber\n",
    "for (i in 1:nrow(uber)){\n",
    "  if (between(uber$Start_Hr[i], 0, 7) | between(uber$Start_Hr[i], 22, 23)){\n",
    "    uber$`Time`[i] <- 'Min'\n",
    "  } else {\n",
    "    if (between(uber$Start_Hr[i], 12, 17)){\n",
    "      uber$`Time`[i] <- 'Max'\n",
    "    } else {\n",
    "      if (between(uber$Start_Hr[i], 8, 11) | between(uber$Start_Hr[i], 18, 21)){\n",
    "        uber$`Time`[i] <- 'Average'\n",
    "    \n",
    "      } else {\n",
    "        uber$`Time`[i] <- 'NA'      \n",
    "      }\n",
    "    }\n",
    "  }\n",
    "}"
   ]
  },
  {
   "cell_type": "code",
   "execution_count": 18,
   "id": "03ba16c3",
   "metadata": {},
   "outputs": [
    {
     "data": {
      "text/html": [
       "<table>\n",
       "<thead><tr><th scope=col>icon</th><th scope=col>start_type</th><th scope=col>start_at</th><th scope=col>start_lat</th><th scope=col>start_lon</th><th scope=col>end_at</th><th scope=col>end_lat</th><th scope=col>end_lon</th><th scope=col>end_state</th><th scope=col>arrived_at</th><th scope=col>...</th><th scope=col>source</th><th scope=col>driver_score</th><th scope=col>rider_score</th><th scope=col>Start_Yr</th><th scope=col>Start_Mth</th><th scope=col>Start_Hr</th><th scope=col>End_Yr</th><th scope=col>End_Mth</th><th scope=col>End_Hr</th><th scope=col>Time</th></tr></thead>\n",
       "<tbody>\n",
       "\t<tr><td>executive          </td><td>asap               </td><td>2010-11-16 16:44:00</td><td>-12.139835359999999</td><td>-77.2355957        </td><td>2010-11-16 17:29:00</td><td>-12.5537033        </td><td>-77.413208         </td><td>drop off           </td><td>2010-11-16 17:02:00</td><td>...                </td><td>iPhone             </td><td> 5                 </td><td> 5                 </td><td>2010               </td><td>11                 </td><td>16                 </td><td>2010               </td><td>11                 </td><td>17                 </td><td>Max                </td></tr>\n",
       "\t<tr><td>executive          </td><td>asap               </td><td>2010-06-01 00:34:00</td><td>-12.13874817       </td><td>-76.99536133       </td><td>2010-06-01 00:37:00</td><td>-12.12465668       </td><td>-77.2886963        </td><td>not found          </td><td>NA                 </td><td>...                </td><td>NA                 </td><td>NA                 </td><td>NA                 </td><td>2010               </td><td> 6                 </td><td> 0                 </td><td>2010               </td><td> 6                 </td><td> 0                 </td><td>Min                </td></tr>\n",
       "\t<tr><td>executive          </td><td>asap               </td><td>2010-05-31 05:01:00</td><td>-12.12453079       </td><td>-77.2780151        </td><td>2010-05-31 05:04:00</td><td>-12.13883209       </td><td>-76.99530029       </td><td>not found          </td><td>NA                 </td><td>...                </td><td>NA                 </td><td>NA                 </td><td>NA                 </td><td>2010               </td><td> 5                 </td><td> 5                 </td><td>2010               </td><td> 5                 </td><td> 5                 </td><td>Min                </td></tr>\n",
       "\t<tr><td>executive          </td><td>asap               </td><td>2010-06-01 00:29:00</td><td>-12.13885117       </td><td>-76.99530029       </td><td>2010-06-01 00:32:00</td><td>-12.12458801       </td><td>-77.2896118        </td><td>not found          </td><td>NA                 </td><td>...                </td><td>NA                 </td><td>NA                 </td><td>NA                 </td><td>2010               </td><td> 6                 </td><td> 0                 </td><td>2010               </td><td> 6                 </td><td> 0                 </td><td>Min                </td></tr>\n",
       "\t<tr><td>executive          </td><td>reserved           </td><td>2010-09-11 23:55:00</td><td>-12.8995438        </td><td>-76.92626953       </td><td>2010-09-12 01:07:00</td><td>-12.2223206        </td><td>-77.10638428       </td><td>drop off           </td><td>2010-09-11 23:50:00</td><td>...                </td><td>iPhone             </td><td> 4                 </td><td> 5                 </td><td>2010               </td><td> 9                 </td><td>23                 </td><td>2010               </td><td> 9                 </td><td> 1                 </td><td>Min                </td></tr>\n",
       "\t<tr><td>executive          </td><td>reserved           </td><td>2010-08-10 13:00:00</td><td>-12.2241898        </td><td>-77.10650635       </td><td>2010-08-10 14:26:00</td><td>-12.8980179        </td><td>-76.92608643       </td><td>drop off           </td><td>2010-08-10 12:53:00</td><td>...                </td><td>iPhone             </td><td>NA                 </td><td> 4                 </td><td>2010               </td><td> 8                 </td><td>13                 </td><td>2010               </td><td> 8                 </td><td>14                 </td><td>Max                </td></tr>\n",
       "</tbody>\n",
       "</table>\n"
      ],
      "text/latex": [
       "\\begin{tabular}{r|llllllllllllllllllllllllllll}\n",
       " icon & start\\_type & start\\_at & start\\_lat & start\\_lon & end\\_at & end\\_lat & end\\_lon & end\\_state & arrived\\_at & ... & source & driver\\_score & rider\\_score & Start\\_Yr & Start\\_Mth & Start\\_Hr & End\\_Yr & End\\_Mth & End\\_Hr & Time\\\\\n",
       "\\hline\n",
       "\t executive           & asap                & 2010-11-16 16:44:00 & -12.139835359999999 & -77.2355957         & 2010-11-16 17:29:00 & -12.5537033         & -77.413208          & drop off            & 2010-11-16 17:02:00 & ...                 & iPhone              &  5                  &  5                  & 2010                & 11                  & 16                  & 2010                & 11                  & 17                  & Max                \\\\\n",
       "\t executive           & asap                & 2010-06-01 00:34:00 & -12.13874817        & -76.99536133        & 2010-06-01 00:37:00 & -12.12465668        & -77.2886963         & not found           & NA                  & ...                 & NA                  & NA                  & NA                  & 2010                &  6                  &  0                  & 2010                &  6                  &  0                  & Min                \\\\\n",
       "\t executive           & asap                & 2010-05-31 05:01:00 & -12.12453079        & -77.2780151         & 2010-05-31 05:04:00 & -12.13883209        & -76.99530029        & not found           & NA                  & ...                 & NA                  & NA                  & NA                  & 2010                &  5                  &  5                  & 2010                &  5                  &  5                  & Min                \\\\\n",
       "\t executive           & asap                & 2010-06-01 00:29:00 & -12.13885117        & -76.99530029        & 2010-06-01 00:32:00 & -12.12458801        & -77.2896118         & not found           & NA                  & ...                 & NA                  & NA                  & NA                  & 2010                &  6                  &  0                  & 2010                &  6                  &  0                  & Min                \\\\\n",
       "\t executive           & reserved            & 2010-09-11 23:55:00 & -12.8995438         & -76.92626953        & 2010-09-12 01:07:00 & -12.2223206         & -77.10638428        & drop off            & 2010-09-11 23:50:00 & ...                 & iPhone              &  4                  &  5                  & 2010                &  9                  & 23                  & 2010                &  9                  &  1                  & Min                \\\\\n",
       "\t executive           & reserved            & 2010-08-10 13:00:00 & -12.2241898         & -77.10650635        & 2010-08-10 14:26:00 & -12.8980179         & -76.92608643        & drop off            & 2010-08-10 12:53:00 & ...                 & iPhone              & NA                  &  4                  & 2010                &  8                  & 13                  & 2010                &  8                  & 14                  & Max                \\\\\n",
       "\\end{tabular}\n"
      ],
      "text/markdown": [
       "\n",
       "| icon | start_type | start_at | start_lat | start_lon | end_at | end_lat | end_lon | end_state | arrived_at | ... | source | driver_score | rider_score | Start_Yr | Start_Mth | Start_Hr | End_Yr | End_Mth | End_Hr | Time |\n",
       "|---|---|---|---|---|---|---|---|---|---|---|---|---|---|---|---|---|---|---|---|---|\n",
       "| executive           | asap                | 2010-11-16 16:44:00 | -12.139835359999999 | -77.2355957         | 2010-11-16 17:29:00 | -12.5537033         | -77.413208          | drop off            | 2010-11-16 17:02:00 | ...                 | iPhone              |  5                  |  5                  | 2010                | 11                  | 16                  | 2010                | 11                  | 17                  | Max                 |\n",
       "| executive           | asap                | 2010-06-01 00:34:00 | -12.13874817        | -76.99536133        | 2010-06-01 00:37:00 | -12.12465668        | -77.2886963         | not found           | NA                  | ...                 | NA                  | NA                  | NA                  | 2010                |  6                  |  0                  | 2010                |  6                  |  0                  | Min                 |\n",
       "| executive           | asap                | 2010-05-31 05:01:00 | -12.12453079        | -77.2780151         | 2010-05-31 05:04:00 | -12.13883209        | -76.99530029        | not found           | NA                  | ...                 | NA                  | NA                  | NA                  | 2010                |  5                  |  5                  | 2010                |  5                  |  5                  | Min                 |\n",
       "| executive           | asap                | 2010-06-01 00:29:00 | -12.13885117        | -76.99530029        | 2010-06-01 00:32:00 | -12.12458801        | -77.2896118         | not found           | NA                  | ...                 | NA                  | NA                  | NA                  | 2010                |  6                  |  0                  | 2010                |  6                  |  0                  | Min                 |\n",
       "| executive           | reserved            | 2010-09-11 23:55:00 | -12.8995438         | -76.92626953        | 2010-09-12 01:07:00 | -12.2223206         | -77.10638428        | drop off            | 2010-09-11 23:50:00 | ...                 | iPhone              |  4                  |  5                  | 2010                |  9                  | 23                  | 2010                |  9                  |  1                  | Min                 |\n",
       "| executive           | reserved            | 2010-08-10 13:00:00 | -12.2241898         | -77.10650635        | 2010-08-10 14:26:00 | -12.8980179         | -76.92608643        | drop off            | 2010-08-10 12:53:00 | ...                 | iPhone              | NA                  |  4                  | 2010                |  8                  | 13                  | 2010                |  8                  | 14                  | Max                 |\n",
       "\n"
      ],
      "text/plain": [
       "  icon      start_type start_at            start_lat           start_lon   \n",
       "1 executive asap       2010-11-16 16:44:00 -12.139835359999999 -77.2355957 \n",
       "2 executive asap       2010-06-01 00:34:00 -12.13874817        -76.99536133\n",
       "3 executive asap       2010-05-31 05:01:00 -12.12453079        -77.2780151 \n",
       "4 executive asap       2010-06-01 00:29:00 -12.13885117        -76.99530029\n",
       "5 executive reserved   2010-09-11 23:55:00 -12.8995438         -76.92626953\n",
       "6 executive reserved   2010-08-10 13:00:00 -12.2241898         -77.10650635\n",
       "  end_at              end_lat      end_lon      end_state arrived_at         \n",
       "1 2010-11-16 17:29:00 -12.5537033  -77.413208   drop off  2010-11-16 17:02:00\n",
       "2 2010-06-01 00:37:00 -12.12465668 -77.2886963  not found <NA>               \n",
       "3 2010-05-31 05:04:00 -12.13883209 -76.99530029 not found <NA>               \n",
       "4 2010-06-01 00:32:00 -12.12458801 -77.2896118  not found <NA>               \n",
       "5 2010-09-12 01:07:00 -12.2223206  -77.10638428 drop off  2010-09-11 23:50:00\n",
       "6 2010-08-10 14:26:00 -12.8980179  -76.92608643 drop off  2010-08-10 12:53:00\n",
       "  ... source driver_score rider_score Start_Yr Start_Mth Start_Hr End_Yr\n",
       "1 ... iPhone  5            5          2010     11        16       2010  \n",
       "2 ... NA     NA           NA          2010      6         0       2010  \n",
       "3 ... NA     NA           NA          2010      5         5       2010  \n",
       "4 ... NA     NA           NA          2010      6         0       2010  \n",
       "5 ... iPhone  4            5          2010      9        23       2010  \n",
       "6 ... iPhone NA            4          2010      8        13       2010  \n",
       "  End_Mth End_Hr Time\n",
       "1 11      17     Max \n",
       "2  6       0     Min \n",
       "3  5       5     Min \n",
       "4  6       0     Min \n",
       "5  9       1     Min \n",
       "6  8      14     Max "
      ]
     },
     "metadata": {},
     "output_type": "display_data"
    }
   ],
   "source": [
    "# Check uber data\n",
    "head(uber)"
   ]
  },
  {
   "cell_type": "code",
   "execution_count": 19,
   "id": "1bceab0b",
   "metadata": {},
   "outputs": [],
   "source": [
    "# Lookup temperature in Temp2 table and merge into uber\n",
    "M <- merge(uber, Temp2, by.x = c(\"Start_Mth\", \"Time\"), by.y = c(\"Month\", \"Time\"), all.x = TRUE, all.y = FALSE)"
   ]
  },
  {
   "cell_type": "code",
   "execution_count": 20,
   "id": "37cd0cf7",
   "metadata": {},
   "outputs": [
    {
     "data": {
      "text/html": [
       "<table>\n",
       "<thead><tr><th scope=col>Start_Mth</th><th scope=col>Time</th><th scope=col>icon</th><th scope=col>start_type</th><th scope=col>start_at</th><th scope=col>start_lat</th><th scope=col>start_lon</th><th scope=col>end_at</th><th scope=col>end_lat</th><th scope=col>end_lon</th><th scope=col>...</th><th scope=col>cost_duration</th><th scope=col>source</th><th scope=col>driver_score</th><th scope=col>rider_score</th><th scope=col>Start_Yr</th><th scope=col>Start_Hr</th><th scope=col>End_Yr</th><th scope=col>End_Mth</th><th scope=col>End_Hr</th><th scope=col>Temp</th></tr></thead>\n",
       "<tbody>\n",
       "\t<tr><td>1                  </td><td>Average            </td><td>executive          </td><td>asap               </td><td>2010-01-26 21:32:00</td><td>-12.782739         </td><td>-76.59016          </td><td>2010-01-26 21:35:00</td><td>-12.795586         </td><td>-76.574466         </td><td>...                </td><td> NA                </td><td>NA                 </td><td>NA                 </td><td>NA                 </td><td>2010               </td><td>21                 </td><td>2010               </td><td>1                  </td><td>21                 </td><td>24                 </td></tr>\n",
       "\t<tr><td>1                  </td><td>Average            </td><td>executive          </td><td>asap               </td><td>2010-01-16 18:58:00</td><td>-12.974            </td><td>-77.35153          </td><td>2010-01-16 19:13:00</td><td>-12.93065          </td><td>-77.25882          </td><td>...                </td><td>137                </td><td>Android            </td><td> 0                 </td><td> 5                 </td><td>2010               </td><td>18                 </td><td>2010               </td><td>1                  </td><td>19                 </td><td>24                 </td></tr>\n",
       "\t<tr><td>1                  </td><td>Average            </td><td>executive          </td><td>asap               </td><td>2010-01-15 20:26:00</td><td>-12.97484          </td><td>-77.18294          </td><td>2010-01-15 20:46:00</td><td>-12.97272          </td><td>-77.32539          </td><td>...                </td><td>187                </td><td>Android            </td><td>NA                 </td><td> 5                 </td><td>2010               </td><td>20                 </td><td>2010               </td><td>1                  </td><td>20                 </td><td>24                 </td></tr>\n",
       "\t<tr><td>1                  </td><td>Average            </td><td>executive          </td><td>asap               </td><td>2010-01-16 18:07:00</td><td>-12.634552         </td><td>-76.969549         </td><td>2010-01-16 18:56:00</td><td>-12.981579         </td><td>-77.40235          </td><td>...                </td><td>367                </td><td>web                </td><td>NA                 </td><td> 5                 </td><td>2010               </td><td>18                 </td><td>2010               </td><td>1                  </td><td>18                 </td><td>24                 </td></tr>\n",
       "\t<tr><td>1                  </td><td>Average            </td><td>executive          </td><td>reserved           </td><td>2010-01-12 08:00:00</td><td>-12.10525894       </td><td>-77.4092407        </td><td>2010-01-12 08:23:00</td><td>-12.2166367        </td><td>-77.11416626       </td><td>...                </td><td>164                </td><td>iPhone             </td><td> 5                 </td><td> 5                 </td><td>2010               </td><td> 8                 </td><td>2010               </td><td>1                  </td><td> 8                 </td><td>24                 </td></tr>\n",
       "\t<tr><td>1                  </td><td>Average            </td><td>executive          </td><td>reserved           </td><td>2010-01-06 09:00:00</td><td>-12.7312393        </td><td>-76.95724487       </td><td>2010-01-06 09:04:00</td><td>-12.               </td><td>.98040771          </td><td>...                </td><td> 47                </td><td>iPhone             </td><td>NA                 </td><td> 5                 </td><td>2010               </td><td> 9                 </td><td>2010               </td><td>1                  </td><td> 9                 </td><td>24                 </td></tr>\n",
       "</tbody>\n",
       "</table>\n"
      ],
      "text/latex": [
       "\\begin{tabular}{r|lllllllllllllllllllllllllllll}\n",
       " Start\\_Mth & Time & icon & start\\_type & start\\_at & start\\_lat & start\\_lon & end\\_at & end\\_lat & end\\_lon & ... & cost\\_duration & source & driver\\_score & rider\\_score & Start\\_Yr & Start\\_Hr & End\\_Yr & End\\_Mth & End\\_Hr & Temp\\\\\n",
       "\\hline\n",
       "\t 1                   & Average             & executive           & asap                & 2010-01-26 21:32:00 & -12.782739          & -76.59016           & 2010-01-26 21:35:00 & -12.795586          & -76.574466          & ...                 &  NA                 & NA                  & NA                  & NA                  & 2010                & 21                  & 2010                & 1                   & 21                  & 24                 \\\\\n",
       "\t 1                   & Average             & executive           & asap                & 2010-01-16 18:58:00 & -12.974             & -77.35153           & 2010-01-16 19:13:00 & -12.93065           & -77.25882           & ...                 & 137                 & Android             &  0                  &  5                  & 2010                & 18                  & 2010                & 1                   & 19                  & 24                 \\\\\n",
       "\t 1                   & Average             & executive           & asap                & 2010-01-15 20:26:00 & -12.97484           & -77.18294           & 2010-01-15 20:46:00 & -12.97272           & -77.32539           & ...                 & 187                 & Android             & NA                  &  5                  & 2010                & 20                  & 2010                & 1                   & 20                  & 24                 \\\\\n",
       "\t 1                   & Average             & executive           & asap                & 2010-01-16 18:07:00 & -12.634552          & -76.969549          & 2010-01-16 18:56:00 & -12.981579          & -77.40235           & ...                 & 367                 & web                 & NA                  &  5                  & 2010                & 18                  & 2010                & 1                   & 18                  & 24                 \\\\\n",
       "\t 1                   & Average             & executive           & reserved            & 2010-01-12 08:00:00 & -12.10525894        & -77.4092407         & 2010-01-12 08:23:00 & -12.2166367         & -77.11416626        & ...                 & 164                 & iPhone              &  5                  &  5                  & 2010                &  8                  & 2010                & 1                   &  8                  & 24                 \\\\\n",
       "\t 1                   & Average             & executive           & reserved            & 2010-01-06 09:00:00 & -12.7312393         & -76.95724487        & 2010-01-06 09:04:00 & -12.                & .98040771           & ...                 &  47                 & iPhone              & NA                  &  5                  & 2010                &  9                  & 2010                & 1                   &  9                  & 24                 \\\\\n",
       "\\end{tabular}\n"
      ],
      "text/markdown": [
       "\n",
       "| Start_Mth | Time | icon | start_type | start_at | start_lat | start_lon | end_at | end_lat | end_lon | ... | cost_duration | source | driver_score | rider_score | Start_Yr | Start_Hr | End_Yr | End_Mth | End_Hr | Temp |\n",
       "|---|---|---|---|---|---|---|---|---|---|---|---|---|---|---|---|---|---|---|---|---|\n",
       "| 1                   | Average             | executive           | asap                | 2010-01-26 21:32:00 | -12.782739          | -76.59016           | 2010-01-26 21:35:00 | -12.795586          | -76.574466          | ...                 |  NA                 | NA                  | NA                  | NA                  | 2010                | 21                  | 2010                | 1                   | 21                  | 24                  |\n",
       "| 1                   | Average             | executive           | asap                | 2010-01-16 18:58:00 | -12.974             | -77.35153           | 2010-01-16 19:13:00 | -12.93065           | -77.25882           | ...                 | 137                 | Android             |  0                  |  5                  | 2010                | 18                  | 2010                | 1                   | 19                  | 24                  |\n",
       "| 1                   | Average             | executive           | asap                | 2010-01-15 20:26:00 | -12.97484           | -77.18294           | 2010-01-15 20:46:00 | -12.97272           | -77.32539           | ...                 | 187                 | Android             | NA                  |  5                  | 2010                | 20                  | 2010                | 1                   | 20                  | 24                  |\n",
       "| 1                   | Average             | executive           | asap                | 2010-01-16 18:07:00 | -12.634552          | -76.969549          | 2010-01-16 18:56:00 | -12.981579          | -77.40235           | ...                 | 367                 | web                 | NA                  |  5                  | 2010                | 18                  | 2010                | 1                   | 18                  | 24                  |\n",
       "| 1                   | Average             | executive           | reserved            | 2010-01-12 08:00:00 | -12.10525894        | -77.4092407         | 2010-01-12 08:23:00 | -12.2166367         | -77.11416626        | ...                 | 164                 | iPhone              |  5                  |  5                  | 2010                |  8                  | 2010                | 1                   |  8                  | 24                  |\n",
       "| 1                   | Average             | executive           | reserved            | 2010-01-06 09:00:00 | -12.7312393         | -76.95724487        | 2010-01-06 09:04:00 | -12.                | .98040771           | ...                 |  47                 | iPhone              | NA                  |  5                  | 2010                |  9                  | 2010                | 1                   |  9                  | 24                  |\n",
       "\n"
      ],
      "text/plain": [
       "  Start_Mth Time    icon      start_type start_at            start_lat   \n",
       "1 1         Average executive asap       2010-01-26 21:32:00 -12.782739  \n",
       "2 1         Average executive asap       2010-01-16 18:58:00 -12.974     \n",
       "3 1         Average executive asap       2010-01-15 20:26:00 -12.97484   \n",
       "4 1         Average executive asap       2010-01-16 18:07:00 -12.634552  \n",
       "5 1         Average executive reserved   2010-01-12 08:00:00 -12.10525894\n",
       "6 1         Average executive reserved   2010-01-06 09:00:00 -12.7312393 \n",
       "  start_lon    end_at              end_lat     end_lon      ... cost_duration\n",
       "1 -76.59016    2010-01-26 21:35:00 -12.795586  -76.574466   ...  NA          \n",
       "2 -77.35153    2010-01-16 19:13:00 -12.93065   -77.25882    ... 137          \n",
       "3 -77.18294    2010-01-15 20:46:00 -12.97272   -77.32539    ... 187          \n",
       "4 -76.969549   2010-01-16 18:56:00 -12.981579  -77.40235    ... 367          \n",
       "5 -77.4092407  2010-01-12 08:23:00 -12.2166367 -77.11416626 ... 164          \n",
       "6 -76.95724487 2010-01-06 09:04:00 -12.        .98040771    ...  47          \n",
       "  source  driver_score rider_score Start_Yr Start_Hr End_Yr End_Mth End_Hr Temp\n",
       "1 NA      NA           NA          2010     21       2010   1       21     24  \n",
       "2 Android  0            5          2010     18       2010   1       19     24  \n",
       "3 Android NA            5          2010     20       2010   1       20     24  \n",
       "4 web     NA            5          2010     18       2010   1       18     24  \n",
       "5 iPhone   5            5          2010      8       2010   1        8     24  \n",
       "6 iPhone  NA            5          2010      9       2010   1        9     24  "
      ]
     },
     "metadata": {},
     "output_type": "display_data"
    }
   ],
   "source": [
    "# Check merged uber - Temp data\n",
    "head(M)"
   ]
  },
  {
   "cell_type": "code",
   "execution_count": 21,
   "id": "a7abcbda",
   "metadata": {},
   "outputs": [],
   "source": [
    "# Calculate travel time in seconds\n",
    "M$Interval <- interval(M$`start_at`,M$`end_at`)\n",
    "M$Travel <- int_length(M$Interval) # Interval in seconds"
   ]
  },
  {
   "cell_type": "code",
   "execution_count": 22,
   "id": "43dd3e72",
   "metadata": {},
   "outputs": [
    {
     "data": {
      "text/html": [
       "<table>\n",
       "<thead><tr><th scope=col>Start_Mth</th><th scope=col>Time</th><th scope=col>icon</th><th scope=col>start_type</th><th scope=col>start_at</th><th scope=col>start_lat</th><th scope=col>start_lon</th><th scope=col>end_at</th><th scope=col>end_lat</th><th scope=col>end_lon</th><th scope=col>...</th><th scope=col>driver_score</th><th scope=col>rider_score</th><th scope=col>Start_Yr</th><th scope=col>Start_Hr</th><th scope=col>End_Yr</th><th scope=col>End_Mth</th><th scope=col>End_Hr</th><th scope=col>Temp</th><th scope=col>Interval</th><th scope=col>Travel</th></tr></thead>\n",
       "<tbody>\n",
       "\t<tr><td>1                                               </td><td>Average                                         </td><td>executive                                       </td><td>asap                                            </td><td>2010-01-26 21:32:00                             </td><td>-12.782739                                      </td><td>-76.59016                                       </td><td>2010-01-26 21:35:00                             </td><td>-12.795586                                      </td><td>-76.574466                                      </td><td>...                                             </td><td>NA                                              </td><td>NA                                              </td><td>2010                                            </td><td>21                                              </td><td>2010                                            </td><td>1                                               </td><td>21                                              </td><td>24                                              </td><td>2010-01-26 21:32:00 UTC--2010-01-26 21:35:00 UTC</td><td> 180                                            </td></tr>\n",
       "\t<tr><td>1                                               </td><td>Average                                         </td><td>executive                                       </td><td>asap                                            </td><td>2010-01-16 18:58:00                             </td><td>-12.974                                         </td><td>-77.35153                                       </td><td>2010-01-16 19:13:00                             </td><td>-12.93065                                       </td><td>-77.25882                                       </td><td>...                                             </td><td> 0                                              </td><td> 5                                              </td><td>2010                                            </td><td>18                                              </td><td>2010                                            </td><td>1                                               </td><td>19                                              </td><td>24                                              </td><td>2010-01-16 18:58:00 UTC--2010-01-16 19:13:00 UTC</td><td> 900                                            </td></tr>\n",
       "\t<tr><td>1                                               </td><td>Average                                         </td><td>executive                                       </td><td>asap                                            </td><td>2010-01-15 20:26:00                             </td><td>-12.97484                                       </td><td>-77.18294                                       </td><td>2010-01-15 20:46:00                             </td><td>-12.97272                                       </td><td>-77.32539                                       </td><td>...                                             </td><td>NA                                              </td><td> 5                                              </td><td>2010                                            </td><td>20                                              </td><td>2010                                            </td><td>1                                               </td><td>20                                              </td><td>24                                              </td><td>2010-01-15 20:26:00 UTC--2010-01-15 20:46:00 UTC</td><td>1200                                            </td></tr>\n",
       "\t<tr><td>1                                               </td><td>Average                                         </td><td>executive                                       </td><td>asap                                            </td><td>2010-01-16 18:07:00                             </td><td>-12.634552                                      </td><td>-76.969549                                      </td><td>2010-01-16 18:56:00                             </td><td>-12.981579                                      </td><td>-77.40235                                       </td><td>...                                             </td><td>NA                                              </td><td> 5                                              </td><td>2010                                            </td><td>18                                              </td><td>2010                                            </td><td>1                                               </td><td>18                                              </td><td>24                                              </td><td>2010-01-16 18:07:00 UTC--2010-01-16 18:56:00 UTC</td><td>2940                                            </td></tr>\n",
       "\t<tr><td>1                                               </td><td>Average                                         </td><td>executive                                       </td><td>reserved                                        </td><td>2010-01-12 08:00:00                             </td><td>-12.10525894                                    </td><td>-77.4092407                                     </td><td>2010-01-12 08:23:00                             </td><td>-12.2166367                                     </td><td>-77.11416626                                    </td><td>...                                             </td><td> 5                                              </td><td> 5                                              </td><td>2010                                            </td><td> 8                                              </td><td>2010                                            </td><td>1                                               </td><td> 8                                              </td><td>24                                              </td><td>2010-01-12 08:00:00 UTC--2010-01-12 08:23:00 UTC</td><td>1380                                            </td></tr>\n",
       "\t<tr><td>1                                               </td><td>Average                                         </td><td>executive                                       </td><td>reserved                                        </td><td>2010-01-06 09:00:00                             </td><td>-12.7312393                                     </td><td>-76.95724487                                    </td><td>2010-01-06 09:04:00                             </td><td>-12.                                            </td><td>.98040771                                       </td><td>...                                             </td><td>NA                                              </td><td> 5                                              </td><td>2010                                            </td><td> 9                                              </td><td>2010                                            </td><td>1                                               </td><td> 9                                              </td><td>24                                              </td><td>2010-01-06 09:00:00 UTC--2010-01-06 09:04:00 UTC</td><td> 240                                            </td></tr>\n",
       "</tbody>\n",
       "</table>\n"
      ],
      "text/latex": [
       "\\begin{tabular}{r|lllllllllllllllllllllllllllllll}\n",
       " Start\\_Mth & Time & icon & start\\_type & start\\_at & start\\_lat & start\\_lon & end\\_at & end\\_lat & end\\_lon & ... & driver\\_score & rider\\_score & Start\\_Yr & Start\\_Hr & End\\_Yr & End\\_Mth & End\\_Hr & Temp & Interval & Travel\\\\\n",
       "\\hline\n",
       "\t 1                                                & Average                                          & executive                                        & asap                                             & 2010-01-26 21:32:00                              & -12.782739                                       & -76.59016                                        & 2010-01-26 21:35:00                              & -12.795586                                       & -76.574466                                       & ...                                              & NA                                               & NA                                               & 2010                                             & 21                                               & 2010                                             & 1                                                & 21                                               & 24                                               & 2010-01-26 21:32:00 UTC--2010-01-26 21:35:00 UTC &  180                                            \\\\\n",
       "\t 1                                                & Average                                          & executive                                        & asap                                             & 2010-01-16 18:58:00                              & -12.974                                          & -77.35153                                        & 2010-01-16 19:13:00                              & -12.93065                                        & -77.25882                                        & ...                                              &  0                                               &  5                                               & 2010                                             & 18                                               & 2010                                             & 1                                                & 19                                               & 24                                               & 2010-01-16 18:58:00 UTC--2010-01-16 19:13:00 UTC &  900                                            \\\\\n",
       "\t 1                                                & Average                                          & executive                                        & asap                                             & 2010-01-15 20:26:00                              & -12.97484                                        & -77.18294                                        & 2010-01-15 20:46:00                              & -12.97272                                        & -77.32539                                        & ...                                              & NA                                               &  5                                               & 2010                                             & 20                                               & 2010                                             & 1                                                & 20                                               & 24                                               & 2010-01-15 20:26:00 UTC--2010-01-15 20:46:00 UTC & 1200                                            \\\\\n",
       "\t 1                                                & Average                                          & executive                                        & asap                                             & 2010-01-16 18:07:00                              & -12.634552                                       & -76.969549                                       & 2010-01-16 18:56:00                              & -12.981579                                       & -77.40235                                        & ...                                              & NA                                               &  5                                               & 2010                                             & 18                                               & 2010                                             & 1                                                & 18                                               & 24                                               & 2010-01-16 18:07:00 UTC--2010-01-16 18:56:00 UTC & 2940                                            \\\\\n",
       "\t 1                                                & Average                                          & executive                                        & reserved                                         & 2010-01-12 08:00:00                              & -12.10525894                                     & -77.4092407                                      & 2010-01-12 08:23:00                              & -12.2166367                                      & -77.11416626                                     & ...                                              &  5                                               &  5                                               & 2010                                             &  8                                               & 2010                                             & 1                                                &  8                                               & 24                                               & 2010-01-12 08:00:00 UTC--2010-01-12 08:23:00 UTC & 1380                                            \\\\\n",
       "\t 1                                                & Average                                          & executive                                        & reserved                                         & 2010-01-06 09:00:00                              & -12.7312393                                      & -76.95724487                                     & 2010-01-06 09:04:00                              & -12.                                             & .98040771                                        & ...                                              & NA                                               &  5                                               & 2010                                             &  9                                               & 2010                                             & 1                                                &  9                                               & 24                                               & 2010-01-06 09:00:00 UTC--2010-01-06 09:04:00 UTC &  240                                            \\\\\n",
       "\\end{tabular}\n"
      ],
      "text/markdown": [
       "\n",
       "| Start_Mth | Time | icon | start_type | start_at | start_lat | start_lon | end_at | end_lat | end_lon | ... | driver_score | rider_score | Start_Yr | Start_Hr | End_Yr | End_Mth | End_Hr | Temp | Interval | Travel |\n",
       "|---|---|---|---|---|---|---|---|---|---|---|---|---|---|---|---|---|---|---|---|---|\n",
       "| 1                                                | Average                                          | executive                                        | asap                                             | 2010-01-26 21:32:00                              | -12.782739                                       | -76.59016                                        | 2010-01-26 21:35:00                              | -12.795586                                       | -76.574466                                       | ...                                              | NA                                               | NA                                               | 2010                                             | 21                                               | 2010                                             | 1                                                | 21                                               | 24                                               | 2010-01-26 21:32:00 UTC--2010-01-26 21:35:00 UTC |  180                                             |\n",
       "| 1                                                | Average                                          | executive                                        | asap                                             | 2010-01-16 18:58:00                              | -12.974                                          | -77.35153                                        | 2010-01-16 19:13:00                              | -12.93065                                        | -77.25882                                        | ...                                              |  0                                               |  5                                               | 2010                                             | 18                                               | 2010                                             | 1                                                | 19                                               | 24                                               | 2010-01-16 18:58:00 UTC--2010-01-16 19:13:00 UTC |  900                                             |\n",
       "| 1                                                | Average                                          | executive                                        | asap                                             | 2010-01-15 20:26:00                              | -12.97484                                        | -77.18294                                        | 2010-01-15 20:46:00                              | -12.97272                                        | -77.32539                                        | ...                                              | NA                                               |  5                                               | 2010                                             | 20                                               | 2010                                             | 1                                                | 20                                               | 24                                               | 2010-01-15 20:26:00 UTC--2010-01-15 20:46:00 UTC | 1200                                             |\n",
       "| 1                                                | Average                                          | executive                                        | asap                                             | 2010-01-16 18:07:00                              | -12.634552                                       | -76.969549                                       | 2010-01-16 18:56:00                              | -12.981579                                       | -77.40235                                        | ...                                              | NA                                               |  5                                               | 2010                                             | 18                                               | 2010                                             | 1                                                | 18                                               | 24                                               | 2010-01-16 18:07:00 UTC--2010-01-16 18:56:00 UTC | 2940                                             |\n",
       "| 1                                                | Average                                          | executive                                        | reserved                                         | 2010-01-12 08:00:00                              | -12.10525894                                     | -77.4092407                                      | 2010-01-12 08:23:00                              | -12.2166367                                      | -77.11416626                                     | ...                                              |  5                                               |  5                                               | 2010                                             |  8                                               | 2010                                             | 1                                                |  8                                               | 24                                               | 2010-01-12 08:00:00 UTC--2010-01-12 08:23:00 UTC | 1380                                             |\n",
       "| 1                                                | Average                                          | executive                                        | reserved                                         | 2010-01-06 09:00:00                              | -12.7312393                                      | -76.95724487                                     | 2010-01-06 09:04:00                              | -12.                                             | .98040771                                        | ...                                              | NA                                               |  5                                               | 2010                                             |  9                                               | 2010                                             | 1                                                |  9                                               | 24                                               | 2010-01-06 09:00:00 UTC--2010-01-06 09:04:00 UTC |  240                                             |\n",
       "\n"
      ],
      "text/plain": [
       "  Start_Mth Time    icon      start_type start_at            start_lat   \n",
       "1 1         Average executive asap       2010-01-26 21:32:00 -12.782739  \n",
       "2 1         Average executive asap       2010-01-16 18:58:00 -12.974     \n",
       "3 1         Average executive asap       2010-01-15 20:26:00 -12.97484   \n",
       "4 1         Average executive asap       2010-01-16 18:07:00 -12.634552  \n",
       "5 1         Average executive reserved   2010-01-12 08:00:00 -12.10525894\n",
       "6 1         Average executive reserved   2010-01-06 09:00:00 -12.7312393 \n",
       "  start_lon    end_at              end_lat     end_lon      ... driver_score\n",
       "1 -76.59016    2010-01-26 21:35:00 -12.795586  -76.574466   ... NA          \n",
       "2 -77.35153    2010-01-16 19:13:00 -12.93065   -77.25882    ...  0          \n",
       "3 -77.18294    2010-01-15 20:46:00 -12.97272   -77.32539    ... NA          \n",
       "4 -76.969549   2010-01-16 18:56:00 -12.981579  -77.40235    ... NA          \n",
       "5 -77.4092407  2010-01-12 08:23:00 -12.2166367 -77.11416626 ...  5          \n",
       "6 -76.95724487 2010-01-06 09:04:00 -12.        .98040771    ... NA          \n",
       "  rider_score Start_Yr Start_Hr End_Yr End_Mth End_Hr Temp\n",
       "1 NA          2010     21       2010   1       21     24  \n",
       "2  5          2010     18       2010   1       19     24  \n",
       "3  5          2010     20       2010   1       20     24  \n",
       "4  5          2010     18       2010   1       18     24  \n",
       "5  5          2010      8       2010   1        8     24  \n",
       "6  5          2010      9       2010   1        9     24  \n",
       "  Interval                                         Travel\n",
       "1 2010-01-26 21:32:00 UTC--2010-01-26 21:35:00 UTC  180  \n",
       "2 2010-01-16 18:58:00 UTC--2010-01-16 19:13:00 UTC  900  \n",
       "3 2010-01-15 20:26:00 UTC--2010-01-15 20:46:00 UTC 1200  \n",
       "4 2010-01-16 18:07:00 UTC--2010-01-16 18:56:00 UTC 2940  \n",
       "5 2010-01-12 08:00:00 UTC--2010-01-12 08:23:00 UTC 1380  \n",
       "6 2010-01-06 09:00:00 UTC--2010-01-06 09:04:00 UTC  240  "
      ]
     },
     "metadata": {},
     "output_type": "display_data"
    }
   ],
   "source": [
    "# Check M\n",
    "head(M)"
   ]
  },
  {
   "cell_type": "code",
   "execution_count": 23,
   "id": "475ec8a5",
   "metadata": {},
   "outputs": [
    {
     "data": {
      "text/html": [
       "<dl class=dl-horizontal>\n",
       "\t<dt>Start_Mth</dt>\n",
       "\t\t<dd>0</dd>\n",
       "\t<dt>Time</dt>\n",
       "\t\t<dd>0</dd>\n",
       "\t<dt>icon</dt>\n",
       "\t\t<dd>0</dd>\n",
       "\t<dt>start_type</dt>\n",
       "\t\t<dd>0</dd>\n",
       "\t<dt>start_at</dt>\n",
       "\t\t<dd>0</dd>\n",
       "\t<dt>start_lat</dt>\n",
       "\t\t<dd>0</dd>\n",
       "\t<dt>start_lon</dt>\n",
       "\t\t<dd>0</dd>\n",
       "\t<dt>end_at</dt>\n",
       "\t\t<dd>277</dd>\n",
       "\t<dt>end_lat</dt>\n",
       "\t\t<dd>0</dd>\n",
       "\t<dt>end_lon</dt>\n",
       "\t\t<dd>0</dd>\n",
       "\t<dt>end_state</dt>\n",
       "\t\t<dd>18</dd>\n",
       "\t<dt>arrived_at</dt>\n",
       "\t\t<dd>6136</dd>\n",
       "\t<dt>price</dt>\n",
       "\t\t<dd>4282</dd>\n",
       "\t<dt>price_distance</dt>\n",
       "\t\t<dd>5476</dd>\n",
       "\t<dt>price_duration</dt>\n",
       "\t\t<dd>5476</dd>\n",
       "\t<dt>distance</dt>\n",
       "\t\t<dd>4158</dd>\n",
       "\t<dt>duration</dt>\n",
       "\t\t<dd>4158</dd>\n",
       "\t<dt>cost</dt>\n",
       "\t\t<dd>5225</dd>\n",
       "\t<dt>cost_distance</dt>\n",
       "\t\t<dd>7310</dd>\n",
       "\t<dt>cost_duration</dt>\n",
       "\t\t<dd>7310</dd>\n",
       "\t<dt>source</dt>\n",
       "\t\t<dd>4266</dd>\n",
       "\t<dt>driver_score</dt>\n",
       "\t\t<dd>15606</dd>\n",
       "\t<dt>rider_score</dt>\n",
       "\t\t<dd>8352</dd>\n",
       "\t<dt>Start_Yr</dt>\n",
       "\t\t<dd>0</dd>\n",
       "\t<dt>Start_Hr</dt>\n",
       "\t\t<dd>0</dd>\n",
       "\t<dt>End_Yr</dt>\n",
       "\t\t<dd>277</dd>\n",
       "\t<dt>End_Mth</dt>\n",
       "\t\t<dd>277</dd>\n",
       "\t<dt>End_Hr</dt>\n",
       "\t\t<dd>277</dd>\n",
       "\t<dt>Temp</dt>\n",
       "\t\t<dd>0</dd>\n",
       "\t<dt>Interval</dt>\n",
       "\t\t<dd>277</dd>\n",
       "\t<dt>Travel</dt>\n",
       "\t\t<dd>277</dd>\n",
       "</dl>\n"
      ],
      "text/latex": [
       "\\begin{description*}\n",
       "\\item[Start\\textbackslash{}\\_Mth] 0\n",
       "\\item[Time] 0\n",
       "\\item[icon] 0\n",
       "\\item[start\\textbackslash{}\\_type] 0\n",
       "\\item[start\\textbackslash{}\\_at] 0\n",
       "\\item[start\\textbackslash{}\\_lat] 0\n",
       "\\item[start\\textbackslash{}\\_lon] 0\n",
       "\\item[end\\textbackslash{}\\_at] 277\n",
       "\\item[end\\textbackslash{}\\_lat] 0\n",
       "\\item[end\\textbackslash{}\\_lon] 0\n",
       "\\item[end\\textbackslash{}\\_state] 18\n",
       "\\item[arrived\\textbackslash{}\\_at] 6136\n",
       "\\item[price] 4282\n",
       "\\item[price\\textbackslash{}\\_distance] 5476\n",
       "\\item[price\\textbackslash{}\\_duration] 5476\n",
       "\\item[distance] 4158\n",
       "\\item[duration] 4158\n",
       "\\item[cost] 5225\n",
       "\\item[cost\\textbackslash{}\\_distance] 7310\n",
       "\\item[cost\\textbackslash{}\\_duration] 7310\n",
       "\\item[source] 4266\n",
       "\\item[driver\\textbackslash{}\\_score] 15606\n",
       "\\item[rider\\textbackslash{}\\_score] 8352\n",
       "\\item[Start\\textbackslash{}\\_Yr] 0\n",
       "\\item[Start\\textbackslash{}\\_Hr] 0\n",
       "\\item[End\\textbackslash{}\\_Yr] 277\n",
       "\\item[End\\textbackslash{}\\_Mth] 277\n",
       "\\item[End\\textbackslash{}\\_Hr] 277\n",
       "\\item[Temp] 0\n",
       "\\item[Interval] 277\n",
       "\\item[Travel] 277\n",
       "\\end{description*}\n"
      ],
      "text/markdown": [
       "Start_Mth\n",
       ":   0Time\n",
       ":   0icon\n",
       ":   0start_type\n",
       ":   0start_at\n",
       ":   0start_lat\n",
       ":   0start_lon\n",
       ":   0end_at\n",
       ":   277end_lat\n",
       ":   0end_lon\n",
       ":   0end_state\n",
       ":   18arrived_at\n",
       ":   6136price\n",
       ":   4282price_distance\n",
       ":   5476price_duration\n",
       ":   5476distance\n",
       ":   4158duration\n",
       ":   4158cost\n",
       ":   5225cost_distance\n",
       ":   7310cost_duration\n",
       ":   7310source\n",
       ":   4266driver_score\n",
       ":   15606rider_score\n",
       ":   8352Start_Yr\n",
       ":   0Start_Hr\n",
       ":   0End_Yr\n",
       ":   277End_Mth\n",
       ":   277End_Hr\n",
       ":   277Temp\n",
       ":   0Interval\n",
       ":   277Travel\n",
       ":   277\n",
       "\n"
      ],
      "text/plain": [
       "     Start_Mth           Time           icon     start_type       start_at \n",
       "             0              0              0              0              0 \n",
       "     start_lat      start_lon         end_at        end_lat        end_lon \n",
       "             0              0            277              0              0 \n",
       "     end_state     arrived_at          price price_distance price_duration \n",
       "            18           6136           4282           5476           5476 \n",
       "      distance       duration           cost  cost_distance  cost_duration \n",
       "          4158           4158           5225           7310           7310 \n",
       "        source   driver_score    rider_score       Start_Yr       Start_Hr \n",
       "          4266          15606           8352              0              0 \n",
       "        End_Yr        End_Mth         End_Hr           Temp       Interval \n",
       "           277            277            277              0            277 \n",
       "        Travel \n",
       "           277 "
      ]
     },
     "metadata": {},
     "output_type": "display_data"
    }
   ],
   "source": [
    "# Check for NAs\n",
    "colSums(is.na(M))"
   ]
  },
  {
   "cell_type": "code",
   "execution_count": 24,
   "id": "425525ea",
   "metadata": {},
   "outputs": [],
   "source": [
    "# Filter NAs in Travel\n",
    " M <- M %>% filter(is.na(Travel) == F)"
   ]
  },
  {
   "cell_type": "code",
   "execution_count": 25,
   "id": "a740b830",
   "metadata": {},
   "outputs": [
    {
     "data": {
      "text/html": [
       "<dl class=dl-horizontal>\n",
       "\t<dt>Start_Mth</dt>\n",
       "\t\t<dd>0</dd>\n",
       "\t<dt>Time</dt>\n",
       "\t\t<dd>0</dd>\n",
       "\t<dt>icon</dt>\n",
       "\t\t<dd>0</dd>\n",
       "\t<dt>start_type</dt>\n",
       "\t\t<dd>0</dd>\n",
       "\t<dt>start_at</dt>\n",
       "\t\t<dd>0</dd>\n",
       "\t<dt>start_lat</dt>\n",
       "\t\t<dd>0</dd>\n",
       "\t<dt>start_lon</dt>\n",
       "\t\t<dd>0</dd>\n",
       "\t<dt>end_at</dt>\n",
       "\t\t<dd>0</dd>\n",
       "\t<dt>end_lat</dt>\n",
       "\t\t<dd>0</dd>\n",
       "\t<dt>end_lon</dt>\n",
       "\t\t<dd>0</dd>\n",
       "\t<dt>end_state</dt>\n",
       "\t\t<dd>6</dd>\n",
       "\t<dt>arrived_at</dt>\n",
       "\t\t<dd>5860</dd>\n",
       "\t<dt>price</dt>\n",
       "\t\t<dd>4006</dd>\n",
       "\t<dt>price_distance</dt>\n",
       "\t\t<dd>5202</dd>\n",
       "\t<dt>price_duration</dt>\n",
       "\t\t<dd>5202</dd>\n",
       "\t<dt>distance</dt>\n",
       "\t\t<dd>3885</dd>\n",
       "\t<dt>duration</dt>\n",
       "\t\t<dd>3885</dd>\n",
       "\t<dt>cost</dt>\n",
       "\t\t<dd>4949</dd>\n",
       "\t<dt>cost_distance</dt>\n",
       "\t\t<dd>7035</dd>\n",
       "\t<dt>cost_duration</dt>\n",
       "\t\t<dd>7035</dd>\n",
       "\t<dt>source</dt>\n",
       "\t\t<dd>3993</dd>\n",
       "\t<dt>driver_score</dt>\n",
       "\t\t<dd>15330</dd>\n",
       "\t<dt>rider_score</dt>\n",
       "\t\t<dd>8076</dd>\n",
       "\t<dt>Start_Yr</dt>\n",
       "\t\t<dd>0</dd>\n",
       "\t<dt>Start_Hr</dt>\n",
       "\t\t<dd>0</dd>\n",
       "\t<dt>End_Yr</dt>\n",
       "\t\t<dd>0</dd>\n",
       "\t<dt>End_Mth</dt>\n",
       "\t\t<dd>0</dd>\n",
       "\t<dt>End_Hr</dt>\n",
       "\t\t<dd>0</dd>\n",
       "\t<dt>Temp</dt>\n",
       "\t\t<dd>0</dd>\n",
       "\t<dt>Interval</dt>\n",
       "\t\t<dd>0</dd>\n",
       "\t<dt>Travel</dt>\n",
       "\t\t<dd>0</dd>\n",
       "</dl>\n"
      ],
      "text/latex": [
       "\\begin{description*}\n",
       "\\item[Start\\textbackslash{}\\_Mth] 0\n",
       "\\item[Time] 0\n",
       "\\item[icon] 0\n",
       "\\item[start\\textbackslash{}\\_type] 0\n",
       "\\item[start\\textbackslash{}\\_at] 0\n",
       "\\item[start\\textbackslash{}\\_lat] 0\n",
       "\\item[start\\textbackslash{}\\_lon] 0\n",
       "\\item[end\\textbackslash{}\\_at] 0\n",
       "\\item[end\\textbackslash{}\\_lat] 0\n",
       "\\item[end\\textbackslash{}\\_lon] 0\n",
       "\\item[end\\textbackslash{}\\_state] 6\n",
       "\\item[arrived\\textbackslash{}\\_at] 5860\n",
       "\\item[price] 4006\n",
       "\\item[price\\textbackslash{}\\_distance] 5202\n",
       "\\item[price\\textbackslash{}\\_duration] 5202\n",
       "\\item[distance] 3885\n",
       "\\item[duration] 3885\n",
       "\\item[cost] 4949\n",
       "\\item[cost\\textbackslash{}\\_distance] 7035\n",
       "\\item[cost\\textbackslash{}\\_duration] 7035\n",
       "\\item[source] 3993\n",
       "\\item[driver\\textbackslash{}\\_score] 15330\n",
       "\\item[rider\\textbackslash{}\\_score] 8076\n",
       "\\item[Start\\textbackslash{}\\_Yr] 0\n",
       "\\item[Start\\textbackslash{}\\_Hr] 0\n",
       "\\item[End\\textbackslash{}\\_Yr] 0\n",
       "\\item[End\\textbackslash{}\\_Mth] 0\n",
       "\\item[End\\textbackslash{}\\_Hr] 0\n",
       "\\item[Temp] 0\n",
       "\\item[Interval] 0\n",
       "\\item[Travel] 0\n",
       "\\end{description*}\n"
      ],
      "text/markdown": [
       "Start_Mth\n",
       ":   0Time\n",
       ":   0icon\n",
       ":   0start_type\n",
       ":   0start_at\n",
       ":   0start_lat\n",
       ":   0start_lon\n",
       ":   0end_at\n",
       ":   0end_lat\n",
       ":   0end_lon\n",
       ":   0end_state\n",
       ":   6arrived_at\n",
       ":   5860price\n",
       ":   4006price_distance\n",
       ":   5202price_duration\n",
       ":   5202distance\n",
       ":   3885duration\n",
       ":   3885cost\n",
       ":   4949cost_distance\n",
       ":   7035cost_duration\n",
       ":   7035source\n",
       ":   3993driver_score\n",
       ":   15330rider_score\n",
       ":   8076Start_Yr\n",
       ":   0Start_Hr\n",
       ":   0End_Yr\n",
       ":   0End_Mth\n",
       ":   0End_Hr\n",
       ":   0Temp\n",
       ":   0Interval\n",
       ":   0Travel\n",
       ":   0\n",
       "\n"
      ],
      "text/plain": [
       "     Start_Mth           Time           icon     start_type       start_at \n",
       "             0              0              0              0              0 \n",
       "     start_lat      start_lon         end_at        end_lat        end_lon \n",
       "             0              0              0              0              0 \n",
       "     end_state     arrived_at          price price_distance price_duration \n",
       "             6           5860           4006           5202           5202 \n",
       "      distance       duration           cost  cost_distance  cost_duration \n",
       "          3885           3885           4949           7035           7035 \n",
       "        source   driver_score    rider_score       Start_Yr       Start_Hr \n",
       "          3993          15330           8076              0              0 \n",
       "        End_Yr        End_Mth         End_Hr           Temp       Interval \n",
       "             0              0              0              0              0 \n",
       "        Travel \n",
       "             0 "
      ]
     },
     "metadata": {},
     "output_type": "display_data"
    },
    {
     "data": {
      "text/html": [
       "<table>\n",
       "<thead><tr><th scope=col>Start_Mth</th><th scope=col>Time</th><th scope=col>icon</th><th scope=col>start_type</th><th scope=col>start_at</th><th scope=col>start_lat</th><th scope=col>start_lon</th><th scope=col>end_at</th><th scope=col>end_lat</th><th scope=col>end_lon</th><th scope=col>...</th><th scope=col>driver_score</th><th scope=col>rider_score</th><th scope=col>Start_Yr</th><th scope=col>Start_Hr</th><th scope=col>End_Yr</th><th scope=col>End_Mth</th><th scope=col>End_Hr</th><th scope=col>Temp</th><th scope=col>Interval</th><th scope=col>Travel</th></tr></thead>\n",
       "<tbody>\n",
       "\t<tr><td>1                                               </td><td>Average                                         </td><td>executive                                       </td><td>asap                                            </td><td>2010-01-26 21:32:00                             </td><td>-12.782739                                      </td><td>-76.59016                                       </td><td>2010-01-26 21:35:00                             </td><td>-12.795586                                      </td><td>-76.574466                                      </td><td>...                                             </td><td>NA                                              </td><td>NA                                              </td><td>2010                                            </td><td>21                                              </td><td>2010                                            </td><td>1                                               </td><td>21                                              </td><td>24                                              </td><td>2010-01-26 21:32:00 UTC--2010-01-26 21:35:00 UTC</td><td> 180                                            </td></tr>\n",
       "\t<tr><td>1                                               </td><td>Average                                         </td><td>executive                                       </td><td>asap                                            </td><td>2010-01-16 18:58:00                             </td><td>-12.974                                         </td><td>-77.35153                                       </td><td>2010-01-16 19:13:00                             </td><td>-12.93065                                       </td><td>-77.25882                                       </td><td>...                                             </td><td> 0                                              </td><td> 5                                              </td><td>2010                                            </td><td>18                                              </td><td>2010                                            </td><td>1                                               </td><td>19                                              </td><td>24                                              </td><td>2010-01-16 18:58:00 UTC--2010-01-16 19:13:00 UTC</td><td> 900                                            </td></tr>\n",
       "\t<tr><td>1                                               </td><td>Average                                         </td><td>executive                                       </td><td>asap                                            </td><td>2010-01-15 20:26:00                             </td><td>-12.97484                                       </td><td>-77.18294                                       </td><td>2010-01-15 20:46:00                             </td><td>-12.97272                                       </td><td>-77.32539                                       </td><td>...                                             </td><td>NA                                              </td><td> 5                                              </td><td>2010                                            </td><td>20                                              </td><td>2010                                            </td><td>1                                               </td><td>20                                              </td><td>24                                              </td><td>2010-01-15 20:26:00 UTC--2010-01-15 20:46:00 UTC</td><td>1200                                            </td></tr>\n",
       "\t<tr><td>1                                               </td><td>Average                                         </td><td>executive                                       </td><td>asap                                            </td><td>2010-01-16 18:07:00                             </td><td>-12.634552                                      </td><td>-76.969549                                      </td><td>2010-01-16 18:56:00                             </td><td>-12.981579                                      </td><td>-77.40235                                       </td><td>...                                             </td><td>NA                                              </td><td> 5                                              </td><td>2010                                            </td><td>18                                              </td><td>2010                                            </td><td>1                                               </td><td>18                                              </td><td>24                                              </td><td>2010-01-16 18:07:00 UTC--2010-01-16 18:56:00 UTC</td><td>2940                                            </td></tr>\n",
       "\t<tr><td>1                                               </td><td>Average                                         </td><td>executive                                       </td><td>reserved                                        </td><td>2010-01-12 08:00:00                             </td><td>-12.10525894                                    </td><td>-77.4092407                                     </td><td>2010-01-12 08:23:00                             </td><td>-12.2166367                                     </td><td>-77.11416626                                    </td><td>...                                             </td><td> 5                                              </td><td> 5                                              </td><td>2010                                            </td><td> 8                                              </td><td>2010                                            </td><td>1                                               </td><td> 8                                              </td><td>24                                              </td><td>2010-01-12 08:00:00 UTC--2010-01-12 08:23:00 UTC</td><td>1380                                            </td></tr>\n",
       "\t<tr><td>1                                               </td><td>Average                                         </td><td>executive                                       </td><td>reserved                                        </td><td>2010-01-06 09:00:00                             </td><td>-12.7312393                                     </td><td>-76.95724487                                    </td><td>2010-01-06 09:04:00                             </td><td>-12.                                            </td><td>.98040771                                       </td><td>...                                             </td><td>NA                                              </td><td> 5                                              </td><td>2010                                            </td><td> 9                                              </td><td>2010                                            </td><td>1                                               </td><td> 9                                              </td><td>24                                              </td><td>2010-01-06 09:00:00 UTC--2010-01-06 09:04:00 UTC</td><td> 240                                            </td></tr>\n",
       "</tbody>\n",
       "</table>\n"
      ],
      "text/latex": [
       "\\begin{tabular}{r|lllllllllllllllllllllllllllllll}\n",
       " Start\\_Mth & Time & icon & start\\_type & start\\_at & start\\_lat & start\\_lon & end\\_at & end\\_lat & end\\_lon & ... & driver\\_score & rider\\_score & Start\\_Yr & Start\\_Hr & End\\_Yr & End\\_Mth & End\\_Hr & Temp & Interval & Travel\\\\\n",
       "\\hline\n",
       "\t 1                                                & Average                                          & executive                                        & asap                                             & 2010-01-26 21:32:00                              & -12.782739                                       & -76.59016                                        & 2010-01-26 21:35:00                              & -12.795586                                       & -76.574466                                       & ...                                              & NA                                               & NA                                               & 2010                                             & 21                                               & 2010                                             & 1                                                & 21                                               & 24                                               & 2010-01-26 21:32:00 UTC--2010-01-26 21:35:00 UTC &  180                                            \\\\\n",
       "\t 1                                                & Average                                          & executive                                        & asap                                             & 2010-01-16 18:58:00                              & -12.974                                          & -77.35153                                        & 2010-01-16 19:13:00                              & -12.93065                                        & -77.25882                                        & ...                                              &  0                                               &  5                                               & 2010                                             & 18                                               & 2010                                             & 1                                                & 19                                               & 24                                               & 2010-01-16 18:58:00 UTC--2010-01-16 19:13:00 UTC &  900                                            \\\\\n",
       "\t 1                                                & Average                                          & executive                                        & asap                                             & 2010-01-15 20:26:00                              & -12.97484                                        & -77.18294                                        & 2010-01-15 20:46:00                              & -12.97272                                        & -77.32539                                        & ...                                              & NA                                               &  5                                               & 2010                                             & 20                                               & 2010                                             & 1                                                & 20                                               & 24                                               & 2010-01-15 20:26:00 UTC--2010-01-15 20:46:00 UTC & 1200                                            \\\\\n",
       "\t 1                                                & Average                                          & executive                                        & asap                                             & 2010-01-16 18:07:00                              & -12.634552                                       & -76.969549                                       & 2010-01-16 18:56:00                              & -12.981579                                       & -77.40235                                        & ...                                              & NA                                               &  5                                               & 2010                                             & 18                                               & 2010                                             & 1                                                & 18                                               & 24                                               & 2010-01-16 18:07:00 UTC--2010-01-16 18:56:00 UTC & 2940                                            \\\\\n",
       "\t 1                                                & Average                                          & executive                                        & reserved                                         & 2010-01-12 08:00:00                              & -12.10525894                                     & -77.4092407                                      & 2010-01-12 08:23:00                              & -12.2166367                                      & -77.11416626                                     & ...                                              &  5                                               &  5                                               & 2010                                             &  8                                               & 2010                                             & 1                                                &  8                                               & 24                                               & 2010-01-12 08:00:00 UTC--2010-01-12 08:23:00 UTC & 1380                                            \\\\\n",
       "\t 1                                                & Average                                          & executive                                        & reserved                                         & 2010-01-06 09:00:00                              & -12.7312393                                      & -76.95724487                                     & 2010-01-06 09:04:00                              & -12.                                             & .98040771                                        & ...                                              & NA                                               &  5                                               & 2010                                             &  9                                               & 2010                                             & 1                                                &  9                                               & 24                                               & 2010-01-06 09:00:00 UTC--2010-01-06 09:04:00 UTC &  240                                            \\\\\n",
       "\\end{tabular}\n"
      ],
      "text/markdown": [
       "\n",
       "| Start_Mth | Time | icon | start_type | start_at | start_lat | start_lon | end_at | end_lat | end_lon | ... | driver_score | rider_score | Start_Yr | Start_Hr | End_Yr | End_Mth | End_Hr | Temp | Interval | Travel |\n",
       "|---|---|---|---|---|---|---|---|---|---|---|---|---|---|---|---|---|---|---|---|---|\n",
       "| 1                                                | Average                                          | executive                                        | asap                                             | 2010-01-26 21:32:00                              | -12.782739                                       | -76.59016                                        | 2010-01-26 21:35:00                              | -12.795586                                       | -76.574466                                       | ...                                              | NA                                               | NA                                               | 2010                                             | 21                                               | 2010                                             | 1                                                | 21                                               | 24                                               | 2010-01-26 21:32:00 UTC--2010-01-26 21:35:00 UTC |  180                                             |\n",
       "| 1                                                | Average                                          | executive                                        | asap                                             | 2010-01-16 18:58:00                              | -12.974                                          | -77.35153                                        | 2010-01-16 19:13:00                              | -12.93065                                        | -77.25882                                        | ...                                              |  0                                               |  5                                               | 2010                                             | 18                                               | 2010                                             | 1                                                | 19                                               | 24                                               | 2010-01-16 18:58:00 UTC--2010-01-16 19:13:00 UTC |  900                                             |\n",
       "| 1                                                | Average                                          | executive                                        | asap                                             | 2010-01-15 20:26:00                              | -12.97484                                        | -77.18294                                        | 2010-01-15 20:46:00                              | -12.97272                                        | -77.32539                                        | ...                                              | NA                                               |  5                                               | 2010                                             | 20                                               | 2010                                             | 1                                                | 20                                               | 24                                               | 2010-01-15 20:26:00 UTC--2010-01-15 20:46:00 UTC | 1200                                             |\n",
       "| 1                                                | Average                                          | executive                                        | asap                                             | 2010-01-16 18:07:00                              | -12.634552                                       | -76.969549                                       | 2010-01-16 18:56:00                              | -12.981579                                       | -77.40235                                        | ...                                              | NA                                               |  5                                               | 2010                                             | 18                                               | 2010                                             | 1                                                | 18                                               | 24                                               | 2010-01-16 18:07:00 UTC--2010-01-16 18:56:00 UTC | 2940                                             |\n",
       "| 1                                                | Average                                          | executive                                        | reserved                                         | 2010-01-12 08:00:00                              | -12.10525894                                     | -77.4092407                                      | 2010-01-12 08:23:00                              | -12.2166367                                      | -77.11416626                                     | ...                                              |  5                                               |  5                                               | 2010                                             |  8                                               | 2010                                             | 1                                                |  8                                               | 24                                               | 2010-01-12 08:00:00 UTC--2010-01-12 08:23:00 UTC | 1380                                             |\n",
       "| 1                                                | Average                                          | executive                                        | reserved                                         | 2010-01-06 09:00:00                              | -12.7312393                                      | -76.95724487                                     | 2010-01-06 09:04:00                              | -12.                                             | .98040771                                        | ...                                              | NA                                               |  5                                               | 2010                                             |  9                                               | 2010                                             | 1                                                |  9                                               | 24                                               | 2010-01-06 09:00:00 UTC--2010-01-06 09:04:00 UTC |  240                                             |\n",
       "\n"
      ],
      "text/plain": [
       "  Start_Mth Time    icon      start_type start_at            start_lat   \n",
       "1 1         Average executive asap       2010-01-26 21:32:00 -12.782739  \n",
       "2 1         Average executive asap       2010-01-16 18:58:00 -12.974     \n",
       "3 1         Average executive asap       2010-01-15 20:26:00 -12.97484   \n",
       "4 1         Average executive asap       2010-01-16 18:07:00 -12.634552  \n",
       "5 1         Average executive reserved   2010-01-12 08:00:00 -12.10525894\n",
       "6 1         Average executive reserved   2010-01-06 09:00:00 -12.7312393 \n",
       "  start_lon    end_at              end_lat     end_lon      ... driver_score\n",
       "1 -76.59016    2010-01-26 21:35:00 -12.795586  -76.574466   ... NA          \n",
       "2 -77.35153    2010-01-16 19:13:00 -12.93065   -77.25882    ...  0          \n",
       "3 -77.18294    2010-01-15 20:46:00 -12.97272   -77.32539    ... NA          \n",
       "4 -76.969549   2010-01-16 18:56:00 -12.981579  -77.40235    ... NA          \n",
       "5 -77.4092407  2010-01-12 08:23:00 -12.2166367 -77.11416626 ...  5          \n",
       "6 -76.95724487 2010-01-06 09:04:00 -12.        .98040771    ... NA          \n",
       "  rider_score Start_Yr Start_Hr End_Yr End_Mth End_Hr Temp\n",
       "1 NA          2010     21       2010   1       21     24  \n",
       "2  5          2010     18       2010   1       19     24  \n",
       "3  5          2010     20       2010   1       20     24  \n",
       "4  5          2010     18       2010   1       18     24  \n",
       "5  5          2010      8       2010   1        8     24  \n",
       "6  5          2010      9       2010   1        9     24  \n",
       "  Interval                                         Travel\n",
       "1 2010-01-26 21:32:00 UTC--2010-01-26 21:35:00 UTC  180  \n",
       "2 2010-01-16 18:58:00 UTC--2010-01-16 19:13:00 UTC  900  \n",
       "3 2010-01-15 20:26:00 UTC--2010-01-15 20:46:00 UTC 1200  \n",
       "4 2010-01-16 18:07:00 UTC--2010-01-16 18:56:00 UTC 2940  \n",
       "5 2010-01-12 08:00:00 UTC--2010-01-12 08:23:00 UTC 1380  \n",
       "6 2010-01-06 09:00:00 UTC--2010-01-06 09:04:00 UTC  240  "
      ]
     },
     "metadata": {},
     "output_type": "display_data"
    }
   ],
   "source": [
    "# Check filtered data\n",
    "colSums(is.na(M))\n",
    "head(M)"
   ]
  },
  {
   "cell_type": "code",
   "execution_count": 26,
   "id": "33f2008f",
   "metadata": {},
   "outputs": [],
   "source": [
    "# Convert Travel time from seconds to hour\n",
    "M$TravelHr <- round(M$Travel/3600, 2)"
   ]
  },
  {
   "cell_type": "code",
   "execution_count": 27,
   "id": "333b1718",
   "metadata": {},
   "outputs": [
    {
     "data": {
      "text/html": [
       "<table>\n",
       "<thead><tr><th scope=col>Start_Mth</th><th scope=col>Time</th><th scope=col>icon</th><th scope=col>start_type</th><th scope=col>start_at</th><th scope=col>start_lat</th><th scope=col>start_lon</th><th scope=col>end_at</th><th scope=col>end_lat</th><th scope=col>end_lon</th><th scope=col>...</th><th scope=col>rider_score</th><th scope=col>Start_Yr</th><th scope=col>Start_Hr</th><th scope=col>End_Yr</th><th scope=col>End_Mth</th><th scope=col>End_Hr</th><th scope=col>Temp</th><th scope=col>Interval</th><th scope=col>Travel</th><th scope=col>TravelHr</th></tr></thead>\n",
       "<tbody>\n",
       "\t<tr><td>1                                               </td><td>Average                                         </td><td>executive                                       </td><td>asap                                            </td><td>2010-01-26 21:32:00                             </td><td>-12.782739                                      </td><td>-76.59016                                       </td><td>2010-01-26 21:35:00                             </td><td>-12.795586                                      </td><td>-76.574466                                      </td><td>...                                             </td><td>NA                                              </td><td>2010                                            </td><td>21                                              </td><td>2010                                            </td><td>1                                               </td><td>21                                              </td><td>24                                              </td><td>2010-01-26 21:32:00 UTC--2010-01-26 21:35:00 UTC</td><td> 180                                            </td><td>0.05                                            </td></tr>\n",
       "\t<tr><td>1                                               </td><td>Average                                         </td><td>executive                                       </td><td>asap                                            </td><td>2010-01-16 18:58:00                             </td><td>-12.974                                         </td><td>-77.35153                                       </td><td>2010-01-16 19:13:00                             </td><td>-12.93065                                       </td><td>-77.25882                                       </td><td>...                                             </td><td> 5                                              </td><td>2010                                            </td><td>18                                              </td><td>2010                                            </td><td>1                                               </td><td>19                                              </td><td>24                                              </td><td>2010-01-16 18:58:00 UTC--2010-01-16 19:13:00 UTC</td><td> 900                                            </td><td>0.25                                            </td></tr>\n",
       "\t<tr><td>1                                               </td><td>Average                                         </td><td>executive                                       </td><td>asap                                            </td><td>2010-01-15 20:26:00                             </td><td>-12.97484                                       </td><td>-77.18294                                       </td><td>2010-01-15 20:46:00                             </td><td>-12.97272                                       </td><td>-77.32539                                       </td><td>...                                             </td><td> 5                                              </td><td>2010                                            </td><td>20                                              </td><td>2010                                            </td><td>1                                               </td><td>20                                              </td><td>24                                              </td><td>2010-01-15 20:26:00 UTC--2010-01-15 20:46:00 UTC</td><td>1200                                            </td><td>0.33                                            </td></tr>\n",
       "\t<tr><td>1                                               </td><td>Average                                         </td><td>executive                                       </td><td>asap                                            </td><td>2010-01-16 18:07:00                             </td><td>-12.634552                                      </td><td>-76.969549                                      </td><td>2010-01-16 18:56:00                             </td><td>-12.981579                                      </td><td>-77.40235                                       </td><td>...                                             </td><td> 5                                              </td><td>2010                                            </td><td>18                                              </td><td>2010                                            </td><td>1                                               </td><td>18                                              </td><td>24                                              </td><td>2010-01-16 18:07:00 UTC--2010-01-16 18:56:00 UTC</td><td>2940                                            </td><td>0.82                                            </td></tr>\n",
       "\t<tr><td>1                                               </td><td>Average                                         </td><td>executive                                       </td><td>reserved                                        </td><td>2010-01-12 08:00:00                             </td><td>-12.10525894                                    </td><td>-77.4092407                                     </td><td>2010-01-12 08:23:00                             </td><td>-12.2166367                                     </td><td>-77.11416626                                    </td><td>...                                             </td><td> 5                                              </td><td>2010                                            </td><td> 8                                              </td><td>2010                                            </td><td>1                                               </td><td> 8                                              </td><td>24                                              </td><td>2010-01-12 08:00:00 UTC--2010-01-12 08:23:00 UTC</td><td>1380                                            </td><td>0.38                                            </td></tr>\n",
       "\t<tr><td>1                                               </td><td>Average                                         </td><td>executive                                       </td><td>reserved                                        </td><td>2010-01-06 09:00:00                             </td><td>-12.7312393                                     </td><td>-76.95724487                                    </td><td>2010-01-06 09:04:00                             </td><td>-12.                                            </td><td>.98040771                                       </td><td>...                                             </td><td> 5                                              </td><td>2010                                            </td><td> 9                                              </td><td>2010                                            </td><td>1                                               </td><td> 9                                              </td><td>24                                              </td><td>2010-01-06 09:00:00 UTC--2010-01-06 09:04:00 UTC</td><td> 240                                            </td><td>0.07                                            </td></tr>\n",
       "</tbody>\n",
       "</table>\n"
      ],
      "text/latex": [
       "\\begin{tabular}{r|llllllllllllllllllllllllllllllll}\n",
       " Start\\_Mth & Time & icon & start\\_type & start\\_at & start\\_lat & start\\_lon & end\\_at & end\\_lat & end\\_lon & ... & rider\\_score & Start\\_Yr & Start\\_Hr & End\\_Yr & End\\_Mth & End\\_Hr & Temp & Interval & Travel & TravelHr\\\\\n",
       "\\hline\n",
       "\t 1                                                & Average                                          & executive                                        & asap                                             & 2010-01-26 21:32:00                              & -12.782739                                       & -76.59016                                        & 2010-01-26 21:35:00                              & -12.795586                                       & -76.574466                                       & ...                                              & NA                                               & 2010                                             & 21                                               & 2010                                             & 1                                                & 21                                               & 24                                               & 2010-01-26 21:32:00 UTC--2010-01-26 21:35:00 UTC &  180                                             & 0.05                                            \\\\\n",
       "\t 1                                                & Average                                          & executive                                        & asap                                             & 2010-01-16 18:58:00                              & -12.974                                          & -77.35153                                        & 2010-01-16 19:13:00                              & -12.93065                                        & -77.25882                                        & ...                                              &  5                                               & 2010                                             & 18                                               & 2010                                             & 1                                                & 19                                               & 24                                               & 2010-01-16 18:58:00 UTC--2010-01-16 19:13:00 UTC &  900                                             & 0.25                                            \\\\\n",
       "\t 1                                                & Average                                          & executive                                        & asap                                             & 2010-01-15 20:26:00                              & -12.97484                                        & -77.18294                                        & 2010-01-15 20:46:00                              & -12.97272                                        & -77.32539                                        & ...                                              &  5                                               & 2010                                             & 20                                               & 2010                                             & 1                                                & 20                                               & 24                                               & 2010-01-15 20:26:00 UTC--2010-01-15 20:46:00 UTC & 1200                                             & 0.33                                            \\\\\n",
       "\t 1                                                & Average                                          & executive                                        & asap                                             & 2010-01-16 18:07:00                              & -12.634552                                       & -76.969549                                       & 2010-01-16 18:56:00                              & -12.981579                                       & -77.40235                                        & ...                                              &  5                                               & 2010                                             & 18                                               & 2010                                             & 1                                                & 18                                               & 24                                               & 2010-01-16 18:07:00 UTC--2010-01-16 18:56:00 UTC & 2940                                             & 0.82                                            \\\\\n",
       "\t 1                                                & Average                                          & executive                                        & reserved                                         & 2010-01-12 08:00:00                              & -12.10525894                                     & -77.4092407                                      & 2010-01-12 08:23:00                              & -12.2166367                                      & -77.11416626                                     & ...                                              &  5                                               & 2010                                             &  8                                               & 2010                                             & 1                                                &  8                                               & 24                                               & 2010-01-12 08:00:00 UTC--2010-01-12 08:23:00 UTC & 1380                                             & 0.38                                            \\\\\n",
       "\t 1                                                & Average                                          & executive                                        & reserved                                         & 2010-01-06 09:00:00                              & -12.7312393                                      & -76.95724487                                     & 2010-01-06 09:04:00                              & -12.                                             & .98040771                                        & ...                                              &  5                                               & 2010                                             &  9                                               & 2010                                             & 1                                                &  9                                               & 24                                               & 2010-01-06 09:00:00 UTC--2010-01-06 09:04:00 UTC &  240                                             & 0.07                                            \\\\\n",
       "\\end{tabular}\n"
      ],
      "text/markdown": [
       "\n",
       "| Start_Mth | Time | icon | start_type | start_at | start_lat | start_lon | end_at | end_lat | end_lon | ... | rider_score | Start_Yr | Start_Hr | End_Yr | End_Mth | End_Hr | Temp | Interval | Travel | TravelHr |\n",
       "|---|---|---|---|---|---|---|---|---|---|---|---|---|---|---|---|---|---|---|---|---|\n",
       "| 1                                                | Average                                          | executive                                        | asap                                             | 2010-01-26 21:32:00                              | -12.782739                                       | -76.59016                                        | 2010-01-26 21:35:00                              | -12.795586                                       | -76.574466                                       | ...                                              | NA                                               | 2010                                             | 21                                               | 2010                                             | 1                                                | 21                                               | 24                                               | 2010-01-26 21:32:00 UTC--2010-01-26 21:35:00 UTC |  180                                             | 0.05                                             |\n",
       "| 1                                                | Average                                          | executive                                        | asap                                             | 2010-01-16 18:58:00                              | -12.974                                          | -77.35153                                        | 2010-01-16 19:13:00                              | -12.93065                                        | -77.25882                                        | ...                                              |  5                                               | 2010                                             | 18                                               | 2010                                             | 1                                                | 19                                               | 24                                               | 2010-01-16 18:58:00 UTC--2010-01-16 19:13:00 UTC |  900                                             | 0.25                                             |\n",
       "| 1                                                | Average                                          | executive                                        | asap                                             | 2010-01-15 20:26:00                              | -12.97484                                        | -77.18294                                        | 2010-01-15 20:46:00                              | -12.97272                                        | -77.32539                                        | ...                                              |  5                                               | 2010                                             | 20                                               | 2010                                             | 1                                                | 20                                               | 24                                               | 2010-01-15 20:26:00 UTC--2010-01-15 20:46:00 UTC | 1200                                             | 0.33                                             |\n",
       "| 1                                                | Average                                          | executive                                        | asap                                             | 2010-01-16 18:07:00                              | -12.634552                                       | -76.969549                                       | 2010-01-16 18:56:00                              | -12.981579                                       | -77.40235                                        | ...                                              |  5                                               | 2010                                             | 18                                               | 2010                                             | 1                                                | 18                                               | 24                                               | 2010-01-16 18:07:00 UTC--2010-01-16 18:56:00 UTC | 2940                                             | 0.82                                             |\n",
       "| 1                                                | Average                                          | executive                                        | reserved                                         | 2010-01-12 08:00:00                              | -12.10525894                                     | -77.4092407                                      | 2010-01-12 08:23:00                              | -12.2166367                                      | -77.11416626                                     | ...                                              |  5                                               | 2010                                             |  8                                               | 2010                                             | 1                                                |  8                                               | 24                                               | 2010-01-12 08:00:00 UTC--2010-01-12 08:23:00 UTC | 1380                                             | 0.38                                             |\n",
       "| 1                                                | Average                                          | executive                                        | reserved                                         | 2010-01-06 09:00:00                              | -12.7312393                                      | -76.95724487                                     | 2010-01-06 09:04:00                              | -12.                                             | .98040771                                        | ...                                              |  5                                               | 2010                                             |  9                                               | 2010                                             | 1                                                |  9                                               | 24                                               | 2010-01-06 09:00:00 UTC--2010-01-06 09:04:00 UTC |  240                                             | 0.07                                             |\n",
       "\n"
      ],
      "text/plain": [
       "  Start_Mth Time    icon      start_type start_at            start_lat   \n",
       "1 1         Average executive asap       2010-01-26 21:32:00 -12.782739  \n",
       "2 1         Average executive asap       2010-01-16 18:58:00 -12.974     \n",
       "3 1         Average executive asap       2010-01-15 20:26:00 -12.97484   \n",
       "4 1         Average executive asap       2010-01-16 18:07:00 -12.634552  \n",
       "5 1         Average executive reserved   2010-01-12 08:00:00 -12.10525894\n",
       "6 1         Average executive reserved   2010-01-06 09:00:00 -12.7312393 \n",
       "  start_lon    end_at              end_lat     end_lon      ... rider_score\n",
       "1 -76.59016    2010-01-26 21:35:00 -12.795586  -76.574466   ... NA         \n",
       "2 -77.35153    2010-01-16 19:13:00 -12.93065   -77.25882    ...  5         \n",
       "3 -77.18294    2010-01-15 20:46:00 -12.97272   -77.32539    ...  5         \n",
       "4 -76.969549   2010-01-16 18:56:00 -12.981579  -77.40235    ...  5         \n",
       "5 -77.4092407  2010-01-12 08:23:00 -12.2166367 -77.11416626 ...  5         \n",
       "6 -76.95724487 2010-01-06 09:04:00 -12.        .98040771    ...  5         \n",
       "  Start_Yr Start_Hr End_Yr End_Mth End_Hr Temp\n",
       "1 2010     21       2010   1       21     24  \n",
       "2 2010     18       2010   1       19     24  \n",
       "3 2010     20       2010   1       20     24  \n",
       "4 2010     18       2010   1       18     24  \n",
       "5 2010      8       2010   1        8     24  \n",
       "6 2010      9       2010   1        9     24  \n",
       "  Interval                                         Travel TravelHr\n",
       "1 2010-01-26 21:32:00 UTC--2010-01-26 21:35:00 UTC  180   0.05    \n",
       "2 2010-01-16 18:58:00 UTC--2010-01-16 19:13:00 UTC  900   0.25    \n",
       "3 2010-01-15 20:26:00 UTC--2010-01-15 20:46:00 UTC 1200   0.33    \n",
       "4 2010-01-16 18:07:00 UTC--2010-01-16 18:56:00 UTC 2940   0.82    \n",
       "5 2010-01-12 08:00:00 UTC--2010-01-12 08:23:00 UTC 1380   0.38    \n",
       "6 2010-01-06 09:00:00 UTC--2010-01-06 09:04:00 UTC  240   0.07    "
      ]
     },
     "metadata": {},
     "output_type": "display_data"
    }
   ],
   "source": [
    "# Check TravelHr variable\n",
    "head(M)"
   ]
  },
  {
   "cell_type": "code",
   "execution_count": 28,
   "id": "f095a557",
   "metadata": {},
   "outputs": [
    {
     "name": "stdout",
     "output_type": "stream",
     "text": [
      "package 'geosphere' successfully unpacked and MD5 sums checked\n",
      "\n",
      "The downloaded binary packages are in\n",
      "\tC:\\Users\\mlene\\AppData\\Local\\Temp\\RtmpQv8n1B\\downloaded_packages\n"
     ]
    },
    {
     "name": "stderr",
     "output_type": "stream",
     "text": [
      "Warning message:\n",
      "\"package 'geosphere' was built under R version 3.6.3\"Warning message:\n",
      "\"package 'ggplot2' was built under R version 3.6.3\"Warning message in (function (kind = NULL, normal.kind = NULL, sample.kind = NULL) :\n",
      "\"non-uniform 'Rounding' sampler used\""
     ]
    }
   ],
   "source": [
    "install.packages(\"geosphere\")\n",
    "library(geosphere)\n",
    "library(ggplot2)"
   ]
  },
  {
   "cell_type": "code",
   "execution_count": 29,
   "id": "84e82299",
   "metadata": {},
   "outputs": [
    {
     "ename": "ERROR",
     "evalue": "Error in .pointsToMatrix(p1): latitude < -90\n",
     "output_type": "error",
     "traceback": [
      "Error in .pointsToMatrix(p1): latitude < -90\nTraceback:\n",
      "1. distHaversine(M[, c(\"start_lon\", \"start_lat\")], M[, c(\"end_lon\", \n .     \"end_lat\")])",
      "2. .pointsToMatrix(p1)",
      "3. stop(\"latitude < -90\")"
     ]
    }
   ],
   "source": [
    "# Calculate distance latitude longitude (non-numeric)\n",
    "# The shortest distance between two points (i.e., the 'great-circle-distance' or 'as the crow flies'), \n",
    "# according to the 'haversine method'. \n",
    "# This method assumes a spherical earth, ignoring ellipsoidal effects.\n",
    "M$distHaversine <- round(distHaversine(M[,c(\"start_lon\", \"start_lat\")], M[,c(\"end_lon\", \"end_lat\")])/1000, 3)\n",
    "\n",
    "# Error in .pointsToMatrix(p1) : latitude < -90"
   ]
  },
  {
   "cell_type": "code",
   "execution_count": 30,
   "id": "8841b7a9",
   "metadata": {},
   "outputs": [
    {
     "name": "stderr",
     "output_type": "stream",
     "text": [
      "Warning message in lapply(M[9:10], as.numeric):\n",
      "\"NAs introduced by coercion\""
     ]
    },
    {
     "data": {
      "text/html": [
       "<dl class=dl-horizontal>\n",
       "\t<dt>Start_Mth</dt>\n",
       "\t\t<dd>0</dd>\n",
       "\t<dt>Time</dt>\n",
       "\t\t<dd>0</dd>\n",
       "\t<dt>icon</dt>\n",
       "\t\t<dd>0</dd>\n",
       "\t<dt>start_type</dt>\n",
       "\t\t<dd>0</dd>\n",
       "\t<dt>start_at</dt>\n",
       "\t\t<dd>0</dd>\n",
       "\t<dt>start_lat</dt>\n",
       "\t\t<dd>0</dd>\n",
       "\t<dt>start_lon</dt>\n",
       "\t\t<dd>0</dd>\n",
       "\t<dt>end_at</dt>\n",
       "\t\t<dd>0</dd>\n",
       "\t<dt>end_lat</dt>\n",
       "\t\t<dd>0</dd>\n",
       "\t<dt>end_lon</dt>\n",
       "\t\t<dd>5</dd>\n",
       "\t<dt>end_state</dt>\n",
       "\t\t<dd>6</dd>\n",
       "\t<dt>arrived_at</dt>\n",
       "\t\t<dd>5860</dd>\n",
       "\t<dt>price</dt>\n",
       "\t\t<dd>4006</dd>\n",
       "\t<dt>price_distance</dt>\n",
       "\t\t<dd>5202</dd>\n",
       "\t<dt>price_duration</dt>\n",
       "\t\t<dd>5202</dd>\n",
       "\t<dt>distance</dt>\n",
       "\t\t<dd>3885</dd>\n",
       "\t<dt>duration</dt>\n",
       "\t\t<dd>3885</dd>\n",
       "\t<dt>cost</dt>\n",
       "\t\t<dd>4949</dd>\n",
       "\t<dt>cost_distance</dt>\n",
       "\t\t<dd>7035</dd>\n",
       "\t<dt>cost_duration</dt>\n",
       "\t\t<dd>7035</dd>\n",
       "\t<dt>source</dt>\n",
       "\t\t<dd>3993</dd>\n",
       "\t<dt>driver_score</dt>\n",
       "\t\t<dd>15330</dd>\n",
       "\t<dt>rider_score</dt>\n",
       "\t\t<dd>8076</dd>\n",
       "\t<dt>Start_Yr</dt>\n",
       "\t\t<dd>0</dd>\n",
       "\t<dt>Start_Hr</dt>\n",
       "\t\t<dd>0</dd>\n",
       "\t<dt>End_Yr</dt>\n",
       "\t\t<dd>0</dd>\n",
       "\t<dt>End_Mth</dt>\n",
       "\t\t<dd>0</dd>\n",
       "\t<dt>End_Hr</dt>\n",
       "\t\t<dd>0</dd>\n",
       "\t<dt>Temp</dt>\n",
       "\t\t<dd>0</dd>\n",
       "\t<dt>Interval</dt>\n",
       "\t\t<dd>0</dd>\n",
       "\t<dt>Travel</dt>\n",
       "\t\t<dd>0</dd>\n",
       "\t<dt>TravelHr</dt>\n",
       "\t\t<dd>0</dd>\n",
       "</dl>\n"
      ],
      "text/latex": [
       "\\begin{description*}\n",
       "\\item[Start\\textbackslash{}\\_Mth] 0\n",
       "\\item[Time] 0\n",
       "\\item[icon] 0\n",
       "\\item[start\\textbackslash{}\\_type] 0\n",
       "\\item[start\\textbackslash{}\\_at] 0\n",
       "\\item[start\\textbackslash{}\\_lat] 0\n",
       "\\item[start\\textbackslash{}\\_lon] 0\n",
       "\\item[end\\textbackslash{}\\_at] 0\n",
       "\\item[end\\textbackslash{}\\_lat] 0\n",
       "\\item[end\\textbackslash{}\\_lon] 5\n",
       "\\item[end\\textbackslash{}\\_state] 6\n",
       "\\item[arrived\\textbackslash{}\\_at] 5860\n",
       "\\item[price] 4006\n",
       "\\item[price\\textbackslash{}\\_distance] 5202\n",
       "\\item[price\\textbackslash{}\\_duration] 5202\n",
       "\\item[distance] 3885\n",
       "\\item[duration] 3885\n",
       "\\item[cost] 4949\n",
       "\\item[cost\\textbackslash{}\\_distance] 7035\n",
       "\\item[cost\\textbackslash{}\\_duration] 7035\n",
       "\\item[source] 3993\n",
       "\\item[driver\\textbackslash{}\\_score] 15330\n",
       "\\item[rider\\textbackslash{}\\_score] 8076\n",
       "\\item[Start\\textbackslash{}\\_Yr] 0\n",
       "\\item[Start\\textbackslash{}\\_Hr] 0\n",
       "\\item[End\\textbackslash{}\\_Yr] 0\n",
       "\\item[End\\textbackslash{}\\_Mth] 0\n",
       "\\item[End\\textbackslash{}\\_Hr] 0\n",
       "\\item[Temp] 0\n",
       "\\item[Interval] 0\n",
       "\\item[Travel] 0\n",
       "\\item[TravelHr] 0\n",
       "\\end{description*}\n"
      ],
      "text/markdown": [
       "Start_Mth\n",
       ":   0Time\n",
       ":   0icon\n",
       ":   0start_type\n",
       ":   0start_at\n",
       ":   0start_lat\n",
       ":   0start_lon\n",
       ":   0end_at\n",
       ":   0end_lat\n",
       ":   0end_lon\n",
       ":   5end_state\n",
       ":   6arrived_at\n",
       ":   5860price\n",
       ":   4006price_distance\n",
       ":   5202price_duration\n",
       ":   5202distance\n",
       ":   3885duration\n",
       ":   3885cost\n",
       ":   4949cost_distance\n",
       ":   7035cost_duration\n",
       ":   7035source\n",
       ":   3993driver_score\n",
       ":   15330rider_score\n",
       ":   8076Start_Yr\n",
       ":   0Start_Hr\n",
       ":   0End_Yr\n",
       ":   0End_Mth\n",
       ":   0End_Hr\n",
       ":   0Temp\n",
       ":   0Interval\n",
       ":   0Travel\n",
       ":   0TravelHr\n",
       ":   0\n",
       "\n"
      ],
      "text/plain": [
       "     Start_Mth           Time           icon     start_type       start_at \n",
       "             0              0              0              0              0 \n",
       "     start_lat      start_lon         end_at        end_lat        end_lon \n",
       "             0              0              0              0              5 \n",
       "     end_state     arrived_at          price price_distance price_duration \n",
       "             6           5860           4006           5202           5202 \n",
       "      distance       duration           cost  cost_distance  cost_duration \n",
       "          3885           3885           4949           7035           7035 \n",
       "        source   driver_score    rider_score       Start_Yr       Start_Hr \n",
       "          3993          15330           8076              0              0 \n",
       "        End_Yr        End_Mth         End_Hr           Temp       Interval \n",
       "             0              0              0              0              0 \n",
       "        Travel       TravelHr \n",
       "             0              0 "
      ]
     },
     "metadata": {},
     "output_type": "display_data"
    }
   ],
   "source": [
    "# Convert Longitudes and Latitudes to numeric\n",
    "M[6:7] <- lapply(M[6:7], as.numeric)\n",
    "M[9:10] <- lapply(M[9:10], as.numeric)\n",
    "colSums(is.na(M))"
   ]
  },
  {
   "cell_type": "code",
   "execution_count": 31,
   "id": "011f9ae8",
   "metadata": {},
   "outputs": [],
   "source": [
    "# Calculate distance latitude longitude\n",
    "M$distHaversine <- round(distHaversine(M[,c(\"start_lon\", \"start_lat\")], M[,c(\"end_lon\", \"end_lat\")])/1000, 3)"
   ]
  },
  {
   "cell_type": "code",
   "execution_count": 32,
   "id": "410542c7",
   "metadata": {},
   "outputs": [],
   "source": [
    "# Using distVincentyEllipsoid = uses an ellipsoid in meters by default\n",
    "M$distVincentyEllipsoid <- round(distVincentyEllipsoid(M[,c(\"start_lon\", \"start_lat\")], M[,c(\"end_lon\", \"end_lat\")])/1000, 3)"
   ]
  },
  {
   "cell_type": "code",
   "execution_count": 33,
   "id": "3cb38c07",
   "metadata": {},
   "outputs": [],
   "source": [
    "# Using distGeo: Distance on an ellipsoid (the geodesic) Highly accurate estimate of the shortest distance between two points on an ellipsoid\n",
    "M$distGeo <- round(distGeo(M[,c(\"start_lon\", \"start_lat\")], M[,c(\"end_lon\", \"end_lat\")], a=6378137, f=1/298.257223563)/1000, 3)"
   ]
  },
  {
   "cell_type": "code",
   "execution_count": 34,
   "id": "2aeab1bd",
   "metadata": {},
   "outputs": [
    {
     "data": {
      "text/html": [
       "<table>\n",
       "<thead><tr><th scope=col>Start_Mth</th><th scope=col>Time</th><th scope=col>icon</th><th scope=col>start_type</th><th scope=col>start_at</th><th scope=col>start_lat</th><th scope=col>start_lon</th><th scope=col>end_at</th><th scope=col>end_lat</th><th scope=col>end_lon</th><th scope=col>...</th><th scope=col>End_Yr</th><th scope=col>End_Mth</th><th scope=col>End_Hr</th><th scope=col>Temp</th><th scope=col>Interval</th><th scope=col>Travel</th><th scope=col>TravelHr</th><th scope=col>distHaversine</th><th scope=col>distVincentyEllipsoid</th><th scope=col>distGeo</th></tr></thead>\n",
       "<tbody>\n",
       "\t<tr><td>1                                               </td><td>Average                                         </td><td>executive                                       </td><td>asap                                            </td><td>2010-01-26 21:32:00                             </td><td>-12.78274                                       </td><td>-76.59016                                       </td><td>2010-01-26 21:35:00                             </td><td>-12.79559                                       </td><td>-76.5744660                                     </td><td>...                                             </td><td>2010                                            </td><td>1                                               </td><td>21                                              </td><td>24                                              </td><td>2010-01-26 21:32:00 UTC--2010-01-26 21:35:00 UTC</td><td> 180                                            </td><td>0.05                                            </td><td>   2.224                                        </td><td>   2.219                                        </td><td>   2.219                                        </td></tr>\n",
       "\t<tr><td>1                                               </td><td>Average                                         </td><td>executive                                       </td><td>asap                                            </td><td>2010-01-16 18:58:00                             </td><td>-12.97400                                       </td><td>-77.35153                                       </td><td>2010-01-16 19:13:00                             </td><td>-12.93065                                       </td><td>-77.2588200                                     </td><td>...                                             </td><td>2010                                            </td><td>1                                               </td><td>19                                              </td><td>24                                              </td><td>2010-01-16 18:58:00 UTC--2010-01-16 19:13:00 UTC</td><td> 900                                            </td><td>0.25                                            </td><td>  11.156                                        </td><td>  11.144                                        </td><td>  11.144                                        </td></tr>\n",
       "\t<tr><td>1                                               </td><td>Average                                         </td><td>executive                                       </td><td>asap                                            </td><td>2010-01-15 20:26:00                             </td><td>-12.97484                                       </td><td>-77.18294                                       </td><td>2010-01-15 20:46:00                             </td><td>-12.97272                                       </td><td>-77.3253900                                     </td><td>...                                             </td><td>2010                                            </td><td>1                                               </td><td>20                                              </td><td>24                                              </td><td>2010-01-15 20:26:00 UTC--2010-01-15 20:46:00 UTC</td><td>1200                                            </td><td>0.33                                            </td><td>  15.454                                        </td><td>  15.457                                        </td><td>  15.457                                        </td></tr>\n",
       "\t<tr><td>1                                               </td><td>Average                                         </td><td>executive                                       </td><td>asap                                            </td><td>2010-01-16 18:07:00                             </td><td>-12.63455                                       </td><td>-76.96955                                       </td><td>2010-01-16 18:56:00                             </td><td>-12.98158                                       </td><td>-77.4023500                                     </td><td>...                                             </td><td>2010                                            </td><td>1                                               </td><td>18                                              </td><td>24                                              </td><td>2010-01-16 18:07:00 UTC--2010-01-16 18:56:00 UTC</td><td>2940                                            </td><td>0.82                                            </td><td>  60.823                                        </td><td>  60.678                                        </td><td>  60.678                                        </td></tr>\n",
       "\t<tr><td>1                                               </td><td>Average                                         </td><td>executive                                       </td><td>reserved                                        </td><td>2010-01-12 08:00:00                             </td><td>-12.10526                                       </td><td>-77.40924                                       </td><td>2010-01-12 08:23:00                             </td><td>-12.21664                                       </td><td>-77.1141663                                     </td><td>...                                             </td><td>2010                                            </td><td>1                                               </td><td> 8                                              </td><td>24                                              </td><td>2010-01-12 08:00:00 UTC--2010-01-12 08:23:00 UTC</td><td>1380                                            </td><td>0.38                                            </td><td>  34.421                                        </td><td>  34.398                                        </td><td>  34.398                                        </td></tr>\n",
       "\t<tr><td>1                                               </td><td>Average                                         </td><td>executive                                       </td><td>reserved                                        </td><td>2010-01-06 09:00:00                             </td><td>-12.73124                                       </td><td>-76.95724                                       </td><td>2010-01-06 09:04:00                             </td><td>-12.00000                                       </td><td>  0.9804077                                     </td><td>...                                             </td><td>2010                                            </td><td>1                                               </td><td> 9                                              </td><td>24                                              </td><td>2010-01-06 09:00:00 UTC--2010-01-06 09:04:00 UTC</td><td> 240                                            </td><td>0.07                                            </td><td>8438.704                                        </td><td>8439.946                                        </td><td>8439.946                                        </td></tr>\n",
       "</tbody>\n",
       "</table>\n"
      ],
      "text/latex": [
       "\\begin{tabular}{r|lllllllllllllllllllllllllllllllllll}\n",
       " Start\\_Mth & Time & icon & start\\_type & start\\_at & start\\_lat & start\\_lon & end\\_at & end\\_lat & end\\_lon & ... & End\\_Yr & End\\_Mth & End\\_Hr & Temp & Interval & Travel & TravelHr & distHaversine & distVincentyEllipsoid & distGeo\\\\\n",
       "\\hline\n",
       "\t 1                                                & Average                                          & executive                                        & asap                                             & 2010-01-26 21:32:00                              & -12.78274                                        & -76.59016                                        & 2010-01-26 21:35:00                              & -12.79559                                        & -76.5744660                                      & ...                                              & 2010                                             & 1                                                & 21                                               & 24                                               & 2010-01-26 21:32:00 UTC--2010-01-26 21:35:00 UTC &  180                                             & 0.05                                             &    2.224                                         &    2.219                                         &    2.219                                        \\\\\n",
       "\t 1                                                & Average                                          & executive                                        & asap                                             & 2010-01-16 18:58:00                              & -12.97400                                        & -77.35153                                        & 2010-01-16 19:13:00                              & -12.93065                                        & -77.2588200                                      & ...                                              & 2010                                             & 1                                                & 19                                               & 24                                               & 2010-01-16 18:58:00 UTC--2010-01-16 19:13:00 UTC &  900                                             & 0.25                                             &   11.156                                         &   11.144                                         &   11.144                                        \\\\\n",
       "\t 1                                                & Average                                          & executive                                        & asap                                             & 2010-01-15 20:26:00                              & -12.97484                                        & -77.18294                                        & 2010-01-15 20:46:00                              & -12.97272                                        & -77.3253900                                      & ...                                              & 2010                                             & 1                                                & 20                                               & 24                                               & 2010-01-15 20:26:00 UTC--2010-01-15 20:46:00 UTC & 1200                                             & 0.33                                             &   15.454                                         &   15.457                                         &   15.457                                        \\\\\n",
       "\t 1                                                & Average                                          & executive                                        & asap                                             & 2010-01-16 18:07:00                              & -12.63455                                        & -76.96955                                        & 2010-01-16 18:56:00                              & -12.98158                                        & -77.4023500                                      & ...                                              & 2010                                             & 1                                                & 18                                               & 24                                               & 2010-01-16 18:07:00 UTC--2010-01-16 18:56:00 UTC & 2940                                             & 0.82                                             &   60.823                                         &   60.678                                         &   60.678                                        \\\\\n",
       "\t 1                                                & Average                                          & executive                                        & reserved                                         & 2010-01-12 08:00:00                              & -12.10526                                        & -77.40924                                        & 2010-01-12 08:23:00                              & -12.21664                                        & -77.1141663                                      & ...                                              & 2010                                             & 1                                                &  8                                               & 24                                               & 2010-01-12 08:00:00 UTC--2010-01-12 08:23:00 UTC & 1380                                             & 0.38                                             &   34.421                                         &   34.398                                         &   34.398                                        \\\\\n",
       "\t 1                                                & Average                                          & executive                                        & reserved                                         & 2010-01-06 09:00:00                              & -12.73124                                        & -76.95724                                        & 2010-01-06 09:04:00                              & -12.00000                                        &   0.9804077                                      & ...                                              & 2010                                             & 1                                                &  9                                               & 24                                               & 2010-01-06 09:00:00 UTC--2010-01-06 09:04:00 UTC &  240                                             & 0.07                                             & 8438.704                                         & 8439.946                                         & 8439.946                                        \\\\\n",
       "\\end{tabular}\n"
      ],
      "text/markdown": [
       "\n",
       "| Start_Mth | Time | icon | start_type | start_at | start_lat | start_lon | end_at | end_lat | end_lon | ... | End_Yr | End_Mth | End_Hr | Temp | Interval | Travel | TravelHr | distHaversine | distVincentyEllipsoid | distGeo |\n",
       "|---|---|---|---|---|---|---|---|---|---|---|---|---|---|---|---|---|---|---|---|---|\n",
       "| 1                                                | Average                                          | executive                                        | asap                                             | 2010-01-26 21:32:00                              | -12.78274                                        | -76.59016                                        | 2010-01-26 21:35:00                              | -12.79559                                        | -76.5744660                                      | ...                                              | 2010                                             | 1                                                | 21                                               | 24                                               | 2010-01-26 21:32:00 UTC--2010-01-26 21:35:00 UTC |  180                                             | 0.05                                             |    2.224                                         |    2.219                                         |    2.219                                         |\n",
       "| 1                                                | Average                                          | executive                                        | asap                                             | 2010-01-16 18:58:00                              | -12.97400                                        | -77.35153                                        | 2010-01-16 19:13:00                              | -12.93065                                        | -77.2588200                                      | ...                                              | 2010                                             | 1                                                | 19                                               | 24                                               | 2010-01-16 18:58:00 UTC--2010-01-16 19:13:00 UTC |  900                                             | 0.25                                             |   11.156                                         |   11.144                                         |   11.144                                         |\n",
       "| 1                                                | Average                                          | executive                                        | asap                                             | 2010-01-15 20:26:00                              | -12.97484                                        | -77.18294                                        | 2010-01-15 20:46:00                              | -12.97272                                        | -77.3253900                                      | ...                                              | 2010                                             | 1                                                | 20                                               | 24                                               | 2010-01-15 20:26:00 UTC--2010-01-15 20:46:00 UTC | 1200                                             | 0.33                                             |   15.454                                         |   15.457                                         |   15.457                                         |\n",
       "| 1                                                | Average                                          | executive                                        | asap                                             | 2010-01-16 18:07:00                              | -12.63455                                        | -76.96955                                        | 2010-01-16 18:56:00                              | -12.98158                                        | -77.4023500                                      | ...                                              | 2010                                             | 1                                                | 18                                               | 24                                               | 2010-01-16 18:07:00 UTC--2010-01-16 18:56:00 UTC | 2940                                             | 0.82                                             |   60.823                                         |   60.678                                         |   60.678                                         |\n",
       "| 1                                                | Average                                          | executive                                        | reserved                                         | 2010-01-12 08:00:00                              | -12.10526                                        | -77.40924                                        | 2010-01-12 08:23:00                              | -12.21664                                        | -77.1141663                                      | ...                                              | 2010                                             | 1                                                |  8                                               | 24                                               | 2010-01-12 08:00:00 UTC--2010-01-12 08:23:00 UTC | 1380                                             | 0.38                                             |   34.421                                         |   34.398                                         |   34.398                                         |\n",
       "| 1                                                | Average                                          | executive                                        | reserved                                         | 2010-01-06 09:00:00                              | -12.73124                                        | -76.95724                                        | 2010-01-06 09:04:00                              | -12.00000                                        |   0.9804077                                      | ...                                              | 2010                                             | 1                                                |  9                                               | 24                                               | 2010-01-06 09:00:00 UTC--2010-01-06 09:04:00 UTC |  240                                             | 0.07                                             | 8438.704                                         | 8439.946                                         | 8439.946                                         |\n",
       "\n"
      ],
      "text/plain": [
       "  Start_Mth Time    icon      start_type start_at            start_lat\n",
       "1 1         Average executive asap       2010-01-26 21:32:00 -12.78274\n",
       "2 1         Average executive asap       2010-01-16 18:58:00 -12.97400\n",
       "3 1         Average executive asap       2010-01-15 20:26:00 -12.97484\n",
       "4 1         Average executive asap       2010-01-16 18:07:00 -12.63455\n",
       "5 1         Average executive reserved   2010-01-12 08:00:00 -12.10526\n",
       "6 1         Average executive reserved   2010-01-06 09:00:00 -12.73124\n",
       "  start_lon end_at              end_lat   end_lon     ... End_Yr End_Mth End_Hr\n",
       "1 -76.59016 2010-01-26 21:35:00 -12.79559 -76.5744660 ... 2010   1       21    \n",
       "2 -77.35153 2010-01-16 19:13:00 -12.93065 -77.2588200 ... 2010   1       19    \n",
       "3 -77.18294 2010-01-15 20:46:00 -12.97272 -77.3253900 ... 2010   1       20    \n",
       "4 -76.96955 2010-01-16 18:56:00 -12.98158 -77.4023500 ... 2010   1       18    \n",
       "5 -77.40924 2010-01-12 08:23:00 -12.21664 -77.1141663 ... 2010   1        8    \n",
       "6 -76.95724 2010-01-06 09:04:00 -12.00000   0.9804077 ... 2010   1        9    \n",
       "  Temp Interval                                         Travel TravelHr\n",
       "1 24   2010-01-26 21:32:00 UTC--2010-01-26 21:35:00 UTC  180   0.05    \n",
       "2 24   2010-01-16 18:58:00 UTC--2010-01-16 19:13:00 UTC  900   0.25    \n",
       "3 24   2010-01-15 20:26:00 UTC--2010-01-15 20:46:00 UTC 1200   0.33    \n",
       "4 24   2010-01-16 18:07:00 UTC--2010-01-16 18:56:00 UTC 2940   0.82    \n",
       "5 24   2010-01-12 08:00:00 UTC--2010-01-12 08:23:00 UTC 1380   0.38    \n",
       "6 24   2010-01-06 09:00:00 UTC--2010-01-06 09:04:00 UTC  240   0.07    \n",
       "  distHaversine distVincentyEllipsoid distGeo \n",
       "1    2.224         2.219                 2.219\n",
       "2   11.156        11.144                11.144\n",
       "3   15.454        15.457                15.457\n",
       "4   60.823        60.678                60.678\n",
       "5   34.421        34.398                34.398\n",
       "6 8438.704      8439.946              8439.946"
      ]
     },
     "metadata": {},
     "output_type": "display_data"
    }
   ],
   "source": [
    "head(M)"
   ]
  },
  {
   "cell_type": "code",
   "execution_count": 35,
   "id": "2142d11d",
   "metadata": {},
   "outputs": [],
   "source": [
    "# Calculate Driver Average speed \n",
    "M$AveSpeed <- round(M$distVincentyEllipsoid/M$TravelHr, 3)"
   ]
  },
  {
   "cell_type": "code",
   "execution_count": 36,
   "id": "007a66db",
   "metadata": {},
   "outputs": [
    {
     "data": {
      "text/html": [
       "<table>\n",
       "<thead><tr><th scope=col>Start_Mth</th><th scope=col>Time</th><th scope=col>icon</th><th scope=col>start_type</th><th scope=col>start_at</th><th scope=col>start_lat</th><th scope=col>start_lon</th><th scope=col>end_at</th><th scope=col>end_lat</th><th scope=col>end_lon</th><th scope=col>...</th><th scope=col>End_Mth</th><th scope=col>End_Hr</th><th scope=col>Temp</th><th scope=col>Interval</th><th scope=col>Travel</th><th scope=col>TravelHr</th><th scope=col>distHaversine</th><th scope=col>distVincentyEllipsoid</th><th scope=col>distGeo</th><th scope=col>AveSpeed</th></tr></thead>\n",
       "<tbody>\n",
       "\t<tr><td>1                                               </td><td>Average                                         </td><td>executive                                       </td><td>asap                                            </td><td>2010-01-26 21:32:00                             </td><td>-12.78274                                       </td><td>-76.59016                                       </td><td>2010-01-26 21:35:00                             </td><td>-12.79559                                       </td><td>-76.5744660                                     </td><td>...                                             </td><td>1                                               </td><td>21                                              </td><td>24                                              </td><td>2010-01-26 21:32:00 UTC--2010-01-26 21:35:00 UTC</td><td> 180                                            </td><td>0.05                                            </td><td>   2.224                                        </td><td>   2.219                                        </td><td>   2.219                                        </td><td>    44.380                                      </td></tr>\n",
       "\t<tr><td>1                                               </td><td>Average                                         </td><td>executive                                       </td><td>asap                                            </td><td>2010-01-16 18:58:00                             </td><td>-12.97400                                       </td><td>-77.35153                                       </td><td>2010-01-16 19:13:00                             </td><td>-12.93065                                       </td><td>-77.2588200                                     </td><td>...                                             </td><td>1                                               </td><td>19                                              </td><td>24                                              </td><td>2010-01-16 18:58:00 UTC--2010-01-16 19:13:00 UTC</td><td> 900                                            </td><td>0.25                                            </td><td>  11.156                                        </td><td>  11.144                                        </td><td>  11.144                                        </td><td>    44.576                                      </td></tr>\n",
       "\t<tr><td>1                                               </td><td>Average                                         </td><td>executive                                       </td><td>asap                                            </td><td>2010-01-15 20:26:00                             </td><td>-12.97484                                       </td><td>-77.18294                                       </td><td>2010-01-15 20:46:00                             </td><td>-12.97272                                       </td><td>-77.3253900                                     </td><td>...                                             </td><td>1                                               </td><td>20                                              </td><td>24                                              </td><td>2010-01-15 20:26:00 UTC--2010-01-15 20:46:00 UTC</td><td>1200                                            </td><td>0.33                                            </td><td>  15.454                                        </td><td>  15.457                                        </td><td>  15.457                                        </td><td>    46.839                                      </td></tr>\n",
       "\t<tr><td>1                                               </td><td>Average                                         </td><td>executive                                       </td><td>asap                                            </td><td>2010-01-16 18:07:00                             </td><td>-12.63455                                       </td><td>-76.96955                                       </td><td>2010-01-16 18:56:00                             </td><td>-12.98158                                       </td><td>-77.4023500                                     </td><td>...                                             </td><td>1                                               </td><td>18                                              </td><td>24                                              </td><td>2010-01-16 18:07:00 UTC--2010-01-16 18:56:00 UTC</td><td>2940                                            </td><td>0.82                                            </td><td>  60.823                                        </td><td>  60.678                                        </td><td>  60.678                                        </td><td>    73.998                                      </td></tr>\n",
       "\t<tr><td>1                                               </td><td>Average                                         </td><td>executive                                       </td><td>reserved                                        </td><td>2010-01-12 08:00:00                             </td><td>-12.10526                                       </td><td>-77.40924                                       </td><td>2010-01-12 08:23:00                             </td><td>-12.21664                                       </td><td>-77.1141663                                     </td><td>...                                             </td><td>1                                               </td><td> 8                                              </td><td>24                                              </td><td>2010-01-12 08:00:00 UTC--2010-01-12 08:23:00 UTC</td><td>1380                                            </td><td>0.38                                            </td><td>  34.421                                        </td><td>  34.398                                        </td><td>  34.398                                        </td><td>    90.521                                      </td></tr>\n",
       "\t<tr><td>1                                               </td><td>Average                                         </td><td>executive                                       </td><td>reserved                                        </td><td>2010-01-06 09:00:00                             </td><td>-12.73124                                       </td><td>-76.95724                                       </td><td>2010-01-06 09:04:00                             </td><td>-12.00000                                       </td><td>  0.9804077                                     </td><td>...                                             </td><td>1                                               </td><td> 9                                              </td><td>24                                              </td><td>2010-01-06 09:00:00 UTC--2010-01-06 09:04:00 UTC</td><td> 240                                            </td><td>0.07                                            </td><td>8438.704                                        </td><td>8439.946                                        </td><td>8439.946                                        </td><td>120570.657                                      </td></tr>\n",
       "</tbody>\n",
       "</table>\n"
      ],
      "text/latex": [
       "\\begin{tabular}{r|llllllllllllllllllllllllllllllllllll}\n",
       " Start\\_Mth & Time & icon & start\\_type & start\\_at & start\\_lat & start\\_lon & end\\_at & end\\_lat & end\\_lon & ... & End\\_Mth & End\\_Hr & Temp & Interval & Travel & TravelHr & distHaversine & distVincentyEllipsoid & distGeo & AveSpeed\\\\\n",
       "\\hline\n",
       "\t 1                                                & Average                                          & executive                                        & asap                                             & 2010-01-26 21:32:00                              & -12.78274                                        & -76.59016                                        & 2010-01-26 21:35:00                              & -12.79559                                        & -76.5744660                                      & ...                                              & 1                                                & 21                                               & 24                                               & 2010-01-26 21:32:00 UTC--2010-01-26 21:35:00 UTC &  180                                             & 0.05                                             &    2.224                                         &    2.219                                         &    2.219                                         &     44.380                                      \\\\\n",
       "\t 1                                                & Average                                          & executive                                        & asap                                             & 2010-01-16 18:58:00                              & -12.97400                                        & -77.35153                                        & 2010-01-16 19:13:00                              & -12.93065                                        & -77.2588200                                      & ...                                              & 1                                                & 19                                               & 24                                               & 2010-01-16 18:58:00 UTC--2010-01-16 19:13:00 UTC &  900                                             & 0.25                                             &   11.156                                         &   11.144                                         &   11.144                                         &     44.576                                      \\\\\n",
       "\t 1                                                & Average                                          & executive                                        & asap                                             & 2010-01-15 20:26:00                              & -12.97484                                        & -77.18294                                        & 2010-01-15 20:46:00                              & -12.97272                                        & -77.3253900                                      & ...                                              & 1                                                & 20                                               & 24                                               & 2010-01-15 20:26:00 UTC--2010-01-15 20:46:00 UTC & 1200                                             & 0.33                                             &   15.454                                         &   15.457                                         &   15.457                                         &     46.839                                      \\\\\n",
       "\t 1                                                & Average                                          & executive                                        & asap                                             & 2010-01-16 18:07:00                              & -12.63455                                        & -76.96955                                        & 2010-01-16 18:56:00                              & -12.98158                                        & -77.4023500                                      & ...                                              & 1                                                & 18                                               & 24                                               & 2010-01-16 18:07:00 UTC--2010-01-16 18:56:00 UTC & 2940                                             & 0.82                                             &   60.823                                         &   60.678                                         &   60.678                                         &     73.998                                      \\\\\n",
       "\t 1                                                & Average                                          & executive                                        & reserved                                         & 2010-01-12 08:00:00                              & -12.10526                                        & -77.40924                                        & 2010-01-12 08:23:00                              & -12.21664                                        & -77.1141663                                      & ...                                              & 1                                                &  8                                               & 24                                               & 2010-01-12 08:00:00 UTC--2010-01-12 08:23:00 UTC & 1380                                             & 0.38                                             &   34.421                                         &   34.398                                         &   34.398                                         &     90.521                                      \\\\\n",
       "\t 1                                                & Average                                          & executive                                        & reserved                                         & 2010-01-06 09:00:00                              & -12.73124                                        & -76.95724                                        & 2010-01-06 09:04:00                              & -12.00000                                        &   0.9804077                                      & ...                                              & 1                                                &  9                                               & 24                                               & 2010-01-06 09:00:00 UTC--2010-01-06 09:04:00 UTC &  240                                             & 0.07                                             & 8438.704                                         & 8439.946                                         & 8439.946                                         & 120570.657                                      \\\\\n",
       "\\end{tabular}\n"
      ],
      "text/markdown": [
       "\n",
       "| Start_Mth | Time | icon | start_type | start_at | start_lat | start_lon | end_at | end_lat | end_lon | ... | End_Mth | End_Hr | Temp | Interval | Travel | TravelHr | distHaversine | distVincentyEllipsoid | distGeo | AveSpeed |\n",
       "|---|---|---|---|---|---|---|---|---|---|---|---|---|---|---|---|---|---|---|---|---|\n",
       "| 1                                                | Average                                          | executive                                        | asap                                             | 2010-01-26 21:32:00                              | -12.78274                                        | -76.59016                                        | 2010-01-26 21:35:00                              | -12.79559                                        | -76.5744660                                      | ...                                              | 1                                                | 21                                               | 24                                               | 2010-01-26 21:32:00 UTC--2010-01-26 21:35:00 UTC |  180                                             | 0.05                                             |    2.224                                         |    2.219                                         |    2.219                                         |     44.380                                       |\n",
       "| 1                                                | Average                                          | executive                                        | asap                                             | 2010-01-16 18:58:00                              | -12.97400                                        | -77.35153                                        | 2010-01-16 19:13:00                              | -12.93065                                        | -77.2588200                                      | ...                                              | 1                                                | 19                                               | 24                                               | 2010-01-16 18:58:00 UTC--2010-01-16 19:13:00 UTC |  900                                             | 0.25                                             |   11.156                                         |   11.144                                         |   11.144                                         |     44.576                                       |\n",
       "| 1                                                | Average                                          | executive                                        | asap                                             | 2010-01-15 20:26:00                              | -12.97484                                        | -77.18294                                        | 2010-01-15 20:46:00                              | -12.97272                                        | -77.3253900                                      | ...                                              | 1                                                | 20                                               | 24                                               | 2010-01-15 20:26:00 UTC--2010-01-15 20:46:00 UTC | 1200                                             | 0.33                                             |   15.454                                         |   15.457                                         |   15.457                                         |     46.839                                       |\n",
       "| 1                                                | Average                                          | executive                                        | asap                                             | 2010-01-16 18:07:00                              | -12.63455                                        | -76.96955                                        | 2010-01-16 18:56:00                              | -12.98158                                        | -77.4023500                                      | ...                                              | 1                                                | 18                                               | 24                                               | 2010-01-16 18:07:00 UTC--2010-01-16 18:56:00 UTC | 2940                                             | 0.82                                             |   60.823                                         |   60.678                                         |   60.678                                         |     73.998                                       |\n",
       "| 1                                                | Average                                          | executive                                        | reserved                                         | 2010-01-12 08:00:00                              | -12.10526                                        | -77.40924                                        | 2010-01-12 08:23:00                              | -12.21664                                        | -77.1141663                                      | ...                                              | 1                                                |  8                                               | 24                                               | 2010-01-12 08:00:00 UTC--2010-01-12 08:23:00 UTC | 1380                                             | 0.38                                             |   34.421                                         |   34.398                                         |   34.398                                         |     90.521                                       |\n",
       "| 1                                                | Average                                          | executive                                        | reserved                                         | 2010-01-06 09:00:00                              | -12.73124                                        | -76.95724                                        | 2010-01-06 09:04:00                              | -12.00000                                        |   0.9804077                                      | ...                                              | 1                                                |  9                                               | 24                                               | 2010-01-06 09:00:00 UTC--2010-01-06 09:04:00 UTC |  240                                             | 0.07                                             | 8438.704                                         | 8439.946                                         | 8439.946                                         | 120570.657                                       |\n",
       "\n"
      ],
      "text/plain": [
       "  Start_Mth Time    icon      start_type start_at            start_lat\n",
       "1 1         Average executive asap       2010-01-26 21:32:00 -12.78274\n",
       "2 1         Average executive asap       2010-01-16 18:58:00 -12.97400\n",
       "3 1         Average executive asap       2010-01-15 20:26:00 -12.97484\n",
       "4 1         Average executive asap       2010-01-16 18:07:00 -12.63455\n",
       "5 1         Average executive reserved   2010-01-12 08:00:00 -12.10526\n",
       "6 1         Average executive reserved   2010-01-06 09:00:00 -12.73124\n",
       "  start_lon end_at              end_lat   end_lon     ... End_Mth End_Hr Temp\n",
       "1 -76.59016 2010-01-26 21:35:00 -12.79559 -76.5744660 ... 1       21     24  \n",
       "2 -77.35153 2010-01-16 19:13:00 -12.93065 -77.2588200 ... 1       19     24  \n",
       "3 -77.18294 2010-01-15 20:46:00 -12.97272 -77.3253900 ... 1       20     24  \n",
       "4 -76.96955 2010-01-16 18:56:00 -12.98158 -77.4023500 ... 1       18     24  \n",
       "5 -77.40924 2010-01-12 08:23:00 -12.21664 -77.1141663 ... 1        8     24  \n",
       "6 -76.95724 2010-01-06 09:04:00 -12.00000   0.9804077 ... 1        9     24  \n",
       "  Interval                                         Travel TravelHr\n",
       "1 2010-01-26 21:32:00 UTC--2010-01-26 21:35:00 UTC  180   0.05    \n",
       "2 2010-01-16 18:58:00 UTC--2010-01-16 19:13:00 UTC  900   0.25    \n",
       "3 2010-01-15 20:26:00 UTC--2010-01-15 20:46:00 UTC 1200   0.33    \n",
       "4 2010-01-16 18:07:00 UTC--2010-01-16 18:56:00 UTC 2940   0.82    \n",
       "5 2010-01-12 08:00:00 UTC--2010-01-12 08:23:00 UTC 1380   0.38    \n",
       "6 2010-01-06 09:00:00 UTC--2010-01-06 09:04:00 UTC  240   0.07    \n",
       "  distHaversine distVincentyEllipsoid distGeo  AveSpeed  \n",
       "1    2.224         2.219                 2.219     44.380\n",
       "2   11.156        11.144                11.144     44.576\n",
       "3   15.454        15.457                15.457     46.839\n",
       "4   60.823        60.678                60.678     73.998\n",
       "5   34.421        34.398                34.398     90.521\n",
       "6 8438.704      8439.946              8439.946 120570.657"
      ]
     },
     "metadata": {},
     "output_type": "display_data"
    }
   ],
   "source": [
    "head(M)"
   ]
  },
  {
   "cell_type": "code",
   "execution_count": 37,
   "id": "23170224",
   "metadata": {},
   "outputs": [
    {
     "name": "stdout",
     "output_type": "stream",
     "text": [
      "'data.frame':\t22834 obs. of  36 variables:\n",
      " $ Start_Mth            : num  1 1 1 1 1 1 1 1 1 1 ...\n",
      " $ Time                 : chr  \"Average\" \"Average\" \"Average\" \"Average\" ...\n",
      " $ icon                 : chr  \"executive\" \"executive\" \"executive\" \"executive\" ...\n",
      " $ start_type           : chr  \"asap\" \"asap\" \"asap\" \"asap\" ...\n",
      " $ start_at             : POSIXct, format: \"2010-01-26 21:32:00\" \"2010-01-16 18:58:00\" ...\n",
      " $ start_lat            : num  -12.8 -13 -13 -12.6 -12.1 ...\n",
      " $ start_lon            : num  -76.6 -77.4 -77.2 -77 -77.4 ...\n",
      " $ end_at               : POSIXct, format: \"2010-01-26 21:35:00\" \"2010-01-16 19:13:00\" ...\n",
      " $ end_lat              : num  -12.8 -12.9 -13 -13 -12.2 ...\n",
      " $ end_lon              : num  -76.6 -77.3 -77.3 -77.4 -77.1 ...\n",
      " $ end_state            : chr  \"not found\" \"drop off\" \"drop off\" \"drop off\" ...\n",
      " $ arrived_at           : POSIXct, format: NA \"2010-01-16 19:05:00\" ...\n",
      " $ price                : num  NA 1700 1628 3909 5023 ...\n",
      " $ price_distance       : num  NA 436 470 3413 4801 ...\n",
      " $ price_duration       : num  NA 185 187 496 222 64 NA NA 230 5 ...\n",
      " $ distance             : num  NA 1363 1984 10666 15004 ...\n",
      " $ duration             : num  NA 222 303 595 266 77 NA 0 276 6 ...\n",
      " $ cost                 : num  NA 1700 1900 2927 3765 ...\n",
      " $ cost_distance        : num  NA 327 476 2560 3601 ...\n",
      " $ cost_duration        : num  NA 137 187 367 164 47 NA NA 170 4 ...\n",
      " $ source               : chr  NA \"Android\" \"Android\" \"web\" ...\n",
      " $ driver_score         : num  NA 0 NA NA 5 NA NA NA 0 NA ...\n",
      " $ rider_score          : num  NA 5 5 5 5 5 NA NA 5 5 ...\n",
      " $ Start_Yr             : num  2010 2010 2010 2010 2010 2010 2010 2010 2010 2010 ...\n",
      " $ Start_Hr             : int  21 18 20 18 8 9 19 10 21 19 ...\n",
      " $ End_Yr               : num  2010 2010 2010 2010 2010 2010 2010 2010 2010 2010 ...\n",
      " $ End_Mth              : num  1 1 1 1 1 1 1 1 1 1 ...\n",
      " $ End_Hr               : int  21 19 20 18 8 9 19 10 21 19 ...\n",
      " $ Temp                 : num  24 24 24 24 24 24 24 24 24 24 ...\n",
      " $ Interval             :Formal class 'Interval' [package \"lubridate\"] with 3 slots\n",
      "  .. ..@ .Data: num  180 900 1200 2940 1380 240 -420 240 2100 0 ...\n",
      "  .. ..@ start: POSIXct, format: \"2010-01-26 21:32:00\" \"2010-01-16 18:58:00\" ...\n",
      "  .. ..@ tzone: chr \"UTC\"\n",
      " $ Travel               : num  180 900 1200 2940 1380 240 -420 240 2100 0 ...\n",
      " $ TravelHr             : num  0.05 0.25 0.33 0.82 0.38 0.07 -0.12 0.07 0.58 0 ...\n",
      " $ distHaversine        : num  2.22 11.16 15.45 60.82 34.42 ...\n",
      " $ distVincentyEllipsoid: num  2.22 11.14 15.46 60.68 34.4 ...\n",
      " $ distGeo              : num  2.22 11.14 15.46 60.68 34.4 ...\n",
      " $ AveSpeed             : num  44.4 44.6 46.8 74 90.5 ...\n"
     ]
    }
   ],
   "source": [
    "str(M)"
   ]
  },
  {
   "cell_type": "code",
   "execution_count": 38,
   "id": "d75058e7",
   "metadata": {},
   "outputs": [
    {
     "data": {
      "text/html": [
       "<dl class=dl-horizontal>\n",
       "\t<dt>Start_Mth</dt>\n",
       "\t\t<dd>0</dd>\n",
       "\t<dt>Time</dt>\n",
       "\t\t<dd>0</dd>\n",
       "\t<dt>icon</dt>\n",
       "\t\t<dd>0</dd>\n",
       "\t<dt>start_type</dt>\n",
       "\t\t<dd>0</dd>\n",
       "\t<dt>start_at</dt>\n",
       "\t\t<dd>0</dd>\n",
       "\t<dt>start_lat</dt>\n",
       "\t\t<dd>0</dd>\n",
       "\t<dt>start_lon</dt>\n",
       "\t\t<dd>0</dd>\n",
       "\t<dt>end_at</dt>\n",
       "\t\t<dd>0</dd>\n",
       "\t<dt>end_lat</dt>\n",
       "\t\t<dd>0</dd>\n",
       "\t<dt>end_lon</dt>\n",
       "\t\t<dd>0</dd>\n",
       "\t<dt>end_state</dt>\n",
       "\t\t<dd>0</dd>\n",
       "\t<dt>arrived_at</dt>\n",
       "\t\t<dd>0</dd>\n",
       "\t<dt>price</dt>\n",
       "\t\t<dd>0</dd>\n",
       "\t<dt>price_distance</dt>\n",
       "\t\t<dd>0</dd>\n",
       "\t<dt>price_duration</dt>\n",
       "\t\t<dd>0</dd>\n",
       "\t<dt>distance</dt>\n",
       "\t\t<dd>0</dd>\n",
       "\t<dt>duration</dt>\n",
       "\t\t<dd>0</dd>\n",
       "\t<dt>cost</dt>\n",
       "\t\t<dd>0</dd>\n",
       "\t<dt>cost_distance</dt>\n",
       "\t\t<dd>0</dd>\n",
       "\t<dt>cost_duration</dt>\n",
       "\t\t<dd>0</dd>\n",
       "\t<dt>source</dt>\n",
       "\t\t<dd>0</dd>\n",
       "\t<dt>driver_score</dt>\n",
       "\t\t<dd>0</dd>\n",
       "\t<dt>rider_score</dt>\n",
       "\t\t<dd>0</dd>\n",
       "\t<dt>Start_Yr</dt>\n",
       "\t\t<dd>0</dd>\n",
       "\t<dt>Start_Hr</dt>\n",
       "\t\t<dd>0</dd>\n",
       "\t<dt>End_Yr</dt>\n",
       "\t\t<dd>0</dd>\n",
       "\t<dt>End_Mth</dt>\n",
       "\t\t<dd>0</dd>\n",
       "\t<dt>End_Hr</dt>\n",
       "\t\t<dd>0</dd>\n",
       "\t<dt>Temp</dt>\n",
       "\t\t<dd>0</dd>\n",
       "\t<dt>Interval</dt>\n",
       "\t\t<dd>0</dd>\n",
       "\t<dt>Travel</dt>\n",
       "\t\t<dd>0</dd>\n",
       "\t<dt>TravelHr</dt>\n",
       "\t\t<dd>0</dd>\n",
       "\t<dt>distHaversine</dt>\n",
       "\t\t<dd>0</dd>\n",
       "\t<dt>distVincentyEllipsoid</dt>\n",
       "\t\t<dd>0</dd>\n",
       "\t<dt>distGeo</dt>\n",
       "\t\t<dd>0</dd>\n",
       "\t<dt>AveSpeed</dt>\n",
       "\t\t<dd>0</dd>\n",
       "</dl>\n"
      ],
      "text/latex": [
       "\\begin{description*}\n",
       "\\item[Start\\textbackslash{}\\_Mth] 0\n",
       "\\item[Time] 0\n",
       "\\item[icon] 0\n",
       "\\item[start\\textbackslash{}\\_type] 0\n",
       "\\item[start\\textbackslash{}\\_at] 0\n",
       "\\item[start\\textbackslash{}\\_lat] 0\n",
       "\\item[start\\textbackslash{}\\_lon] 0\n",
       "\\item[end\\textbackslash{}\\_at] 0\n",
       "\\item[end\\textbackslash{}\\_lat] 0\n",
       "\\item[end\\textbackslash{}\\_lon] 0\n",
       "\\item[end\\textbackslash{}\\_state] 0\n",
       "\\item[arrived\\textbackslash{}\\_at] 0\n",
       "\\item[price] 0\n",
       "\\item[price\\textbackslash{}\\_distance] 0\n",
       "\\item[price\\textbackslash{}\\_duration] 0\n",
       "\\item[distance] 0\n",
       "\\item[duration] 0\n",
       "\\item[cost] 0\n",
       "\\item[cost\\textbackslash{}\\_distance] 0\n",
       "\\item[cost\\textbackslash{}\\_duration] 0\n",
       "\\item[source] 0\n",
       "\\item[driver\\textbackslash{}\\_score] 0\n",
       "\\item[rider\\textbackslash{}\\_score] 0\n",
       "\\item[Start\\textbackslash{}\\_Yr] 0\n",
       "\\item[Start\\textbackslash{}\\_Hr] 0\n",
       "\\item[End\\textbackslash{}\\_Yr] 0\n",
       "\\item[End\\textbackslash{}\\_Mth] 0\n",
       "\\item[End\\textbackslash{}\\_Hr] 0\n",
       "\\item[Temp] 0\n",
       "\\item[Interval] 0\n",
       "\\item[Travel] 0\n",
       "\\item[TravelHr] 0\n",
       "\\item[distHaversine] 0\n",
       "\\item[distVincentyEllipsoid] 0\n",
       "\\item[distGeo] 0\n",
       "\\item[AveSpeed] 0\n",
       "\\end{description*}\n"
      ],
      "text/markdown": [
       "Start_Mth\n",
       ":   0Time\n",
       ":   0icon\n",
       ":   0start_type\n",
       ":   0start_at\n",
       ":   0start_lat\n",
       ":   0start_lon\n",
       ":   0end_at\n",
       ":   0end_lat\n",
       ":   0end_lon\n",
       ":   0end_state\n",
       ":   0arrived_at\n",
       ":   0price\n",
       ":   0price_distance\n",
       ":   0price_duration\n",
       ":   0distance\n",
       ":   0duration\n",
       ":   0cost\n",
       ":   0cost_distance\n",
       ":   0cost_duration\n",
       ":   0source\n",
       ":   0driver_score\n",
       ":   0rider_score\n",
       ":   0Start_Yr\n",
       ":   0Start_Hr\n",
       ":   0End_Yr\n",
       ":   0End_Mth\n",
       ":   0End_Hr\n",
       ":   0Temp\n",
       ":   0Interval\n",
       ":   0Travel\n",
       ":   0TravelHr\n",
       ":   0distHaversine\n",
       ":   0distVincentyEllipsoid\n",
       ":   0distGeo\n",
       ":   0AveSpeed\n",
       ":   0\n",
       "\n"
      ],
      "text/plain": [
       "            Start_Mth                  Time                  icon \n",
       "                    0                     0                     0 \n",
       "           start_type              start_at             start_lat \n",
       "                    0                     0                     0 \n",
       "            start_lon                end_at               end_lat \n",
       "                    0                     0                     0 \n",
       "              end_lon             end_state            arrived_at \n",
       "                    0                     0                     0 \n",
       "                price        price_distance        price_duration \n",
       "                    0                     0                     0 \n",
       "             distance              duration                  cost \n",
       "                    0                     0                     0 \n",
       "        cost_distance         cost_duration                source \n",
       "                    0                     0                     0 \n",
       "         driver_score           rider_score              Start_Yr \n",
       "                    0                     0                     0 \n",
       "             Start_Hr                End_Yr               End_Mth \n",
       "                    0                     0                     0 \n",
       "               End_Hr                  Temp              Interval \n",
       "                    0                     0                     0 \n",
       "               Travel              TravelHr         distHaversine \n",
       "                    0                     0                     0 \n",
       "distVincentyEllipsoid               distGeo              AveSpeed \n",
       "                    0                     0                     0 "
      ]
     },
     "metadata": {},
     "output_type": "display_data"
    },
    {
     "name": "stdout",
     "output_type": "stream",
     "text": [
      "'data.frame':\t6470 obs. of  36 variables:\n",
      " $ Start_Mth            : num  1 1 1 1 1 1 1 1 1 1 ...\n",
      " $ Time                 : chr  \"Average\" \"Average\" \"Average\" \"Average\" ...\n",
      " $ icon                 : chr  \"executive\" \"executive\" \"executive\" \"executive\" ...\n",
      " $ start_type           : chr  \"asap\" \"reserved\" \"asap\" \"asap\" ...\n",
      " $ start_at             : POSIXct, format: \"2010-01-16 18:58:00\" \"2010-01-12 08:00:00\" ...\n",
      " $ start_lat            : num  -13 -12.1 -12.1 -12.1 -12.1 ...\n",
      " $ start_lon            : num  -77.4 -77.4 -77.2 -77 -77.2 ...\n",
      " $ end_at               : POSIXct, format: \"2010-01-16 19:13:00\" \"2010-01-12 08:23:00\" ...\n",
      " $ end_lat              : num  -12.9 -12.2 -12 -12 -12 ...\n",
      " $ end_lon              : num  -77.259 -77.114 0.387 0.186 0.255 ...\n",
      " $ end_state            : chr  \"drop off\" \"drop off\" \"drop off\" \"drop off\" ...\n",
      " $ arrived_at           : POSIXct, format: \"2010-01-16 19:05:00\" \"2010-01-12 07:48:00\" ...\n",
      " $ price                : num  1700 5023 2200 2507 4761 ...\n",
      " $ price_distance       : num  436 4801 227 1674 4655 ...\n",
      " $ price_duration       : num  185 222 230 833 106 286 34 444 12 99 ...\n",
      " $ distance             : num  1363 15004 710 5231 14548 ...\n",
      " $ duration             : num  222 266 276 1000 127 344 41 533 15 160 ...\n",
      " $ cost                 : num  1700 3765 1900 1872 3570 ...\n",
      " $ cost_distance        : num  327 3601 170 1255 3492 ...\n",
      " $ cost_duration        : num  137 164 170 617 78 212 25 329 9 99 ...\n",
      " $ source               : chr  \"Android\" \"iPhone\" \"iPhone\" \"Android\" ...\n",
      " $ driver_score         : num  0 5 0 5 5 5 5 5 5 0 ...\n",
      " $ rider_score          : num  5 5 5 5 5 5 5 5 5 5 ...\n",
      " $ Start_Yr             : num  2010 2010 2010 2010 2010 2010 2010 2010 2010 2010 ...\n",
      " $ Start_Hr             : int  18 8 21 19 9 11 18 18 18 21 ...\n",
      " $ End_Yr               : num  2010 2010 2010 2010 2010 2010 2010 2010 2010 2010 ...\n",
      " $ End_Mth              : num  1 1 1 1 1 1 1 1 1 1 ...\n",
      " $ End_Hr               : int  19 8 21 19 10 12 18 19 18 21 ...\n",
      " $ Temp                 : num  24 24 24 24 24 24 24 24 24 24 ...\n",
      " $ Interval             :Formal class 'Interval' [package \"lubridate\"] with 3 slots\n",
      "  .. ..@ .Data: num  900 1380 2100 1680 2340 1860 120 2880 60 180 ...\n",
      "  .. ..@ start: POSIXct, format: \"2010-01-16 18:58:00\" \"2010-01-12 08:00:00\" ...\n",
      "  .. ..@ tzone: chr \"UTC\"\n",
      " $ Travel               : num  900 1380 2100 1680 2340 1860 120 2880 60 180 ...\n",
      " $ TravelHr             : num  0.25 0.38 0.58 0.47 0.65 0.52 0.03 0.8 0.02 0.05 ...\n",
      " $ distHaversine        : num  11.2 34.4 8415.3 8368.5 8396.4 ...\n",
      " $ distVincentyEllipsoid: num  11.1 34.4 8416.5 8369.7 8397.6 ...\n",
      " $ distGeo              : num  11.1 34.4 8416.5 8369.7 8397.6 ...\n",
      " $ AveSpeed             : num  44.6 90.5 14511.2 17807.9 12919.3 ...\n"
     ]
    }
   ],
   "source": [
    "# Drop NA from all variables\n",
    "M2 <- drop_na(M)\n",
    "colSums(is.na(M2))\n",
    "str(M2) #6400 obs"
   ]
  },
  {
   "cell_type": "code",
   "execution_count": null,
   "id": "ec6f713b",
   "metadata": {},
   "outputs": [],
   "source": [
    "# The goal of tidyr is to help you create tidy data. Tidy data is data where:\n",
    "\n",
    "# Every column is variable.\n",
    "# Every row is an observation.\n",
    "# Every cell is a single value."
   ]
  },
  {
   "cell_type": "code",
   "execution_count": 39,
   "id": "32beee98",
   "metadata": {},
   "outputs": [
    {
     "name": "stdout",
     "output_type": "stream",
     "text": [
      "'data.frame':\t6470 obs. of  36 variables:\n",
      " $ Start_Mth            : num  1 1 1 1 1 1 1 1 1 1 ...\n",
      " $ Time                 : chr  \"Average\" \"Average\" \"Average\" \"Average\" ...\n",
      " $ icon                 : chr  \"executive\" \"executive\" \"executive\" \"executive\" ...\n",
      " $ start_type           : chr  \"asap\" \"reserved\" \"asap\" \"asap\" ...\n",
      " $ start_at             : POSIXct, format: \"2010-01-16 18:58:00\" \"2010-01-12 08:00:00\" ...\n",
      " $ start_lat            : num  -13 -12.1 -12.1 -12.1 -12.1 ...\n",
      " $ start_lon            : num  -77.4 -77.4 -77.2 -77 -77.2 ...\n",
      " $ end_at               : POSIXct, format: \"2010-01-16 19:13:00\" \"2010-01-12 08:23:00\" ...\n",
      " $ end_lat              : num  -12.9 -12.2 -12 -12 -12 ...\n",
      " $ end_lon              : num  -77.259 -77.114 0.387 0.186 0.255 ...\n",
      " $ end_state            : chr  \"drop off\" \"drop off\" \"drop off\" \"drop off\" ...\n",
      " $ arrived_at           : POSIXct, format: \"2010-01-16 19:05:00\" \"2010-01-12 07:48:00\" ...\n",
      " $ price                : num  1700 5023 2200 2507 4761 ...\n",
      " $ price_distance       : num  436 4801 227 1674 4655 ...\n",
      " $ price_duration       : num  185 222 230 833 106 286 34 444 12 99 ...\n",
      " $ distance             : num  1363 15004 710 5231 14548 ...\n",
      " $ duration             : num  222 266 276 1000 127 344 41 533 15 160 ...\n",
      " $ cost                 : num  1700 3765 1900 1872 3570 ...\n",
      " $ cost_distance        : num  327 3601 170 1255 3492 ...\n",
      " $ cost_duration        : num  137 164 170 617 78 212 25 329 9 99 ...\n",
      " $ source               : chr  \"Android\" \"iPhone\" \"iPhone\" \"Android\" ...\n",
      " $ driver_score         : num  0 5 0 5 5 5 5 5 5 0 ...\n",
      " $ rider_score          : num  5 5 5 5 5 5 5 5 5 5 ...\n",
      " $ Start_Yr             : num  2010 2010 2010 2010 2010 2010 2010 2010 2010 2010 ...\n",
      " $ Start_Hr             : int  18 8 21 19 9 11 18 18 18 21 ...\n",
      " $ End_Yr               : num  2010 2010 2010 2010 2010 2010 2010 2010 2010 2010 ...\n",
      " $ End_Mth              : num  1 1 1 1 1 1 1 1 1 1 ...\n",
      " $ End_Hr               : int  19 8 21 19 10 12 18 19 18 21 ...\n",
      " $ Temp                 : num  24 24 24 24 24 24 24 24 24 24 ...\n",
      " $ Interval             :Formal class 'Interval' [package \"lubridate\"] with 3 slots\n",
      "  .. ..@ .Data: num  900 1380 2100 1680 2340 1860 120 2880 60 180 ...\n",
      "  .. ..@ start: POSIXct, format: \"2010-01-16 18:58:00\" \"2010-01-12 08:00:00\" ...\n",
      "  .. ..@ tzone: chr \"UTC\"\n",
      " $ Travel               : num  900 1380 2100 1680 2340 1860 120 2880 60 180 ...\n",
      " $ TravelHr             : num  0.25 0.38 0.58 0.47 0.65 0.52 0.03 0.8 0.02 0.05 ...\n",
      " $ distHaversine        : num  11.2 34.4 8415.3 8368.5 8396.4 ...\n",
      " $ distVincentyEllipsoid: num  11.1 34.4 8416.5 8369.7 8397.6 ...\n",
      " $ distGeo              : num  11.1 34.4 8416.5 8369.7 8397.6 ...\n",
      " $ AveSpeed             : num  44.6 90.5 14511.2 17807.9 12919.3 ...\n"
     ]
    }
   ],
   "source": [
    "# Filter and retain only dropoff end_state\n",
    "M2 <- M2 %>% filter(end_state == \"drop off\")\n",
    "str(M2)"
   ]
  },
  {
   "cell_type": "code",
   "execution_count": 40,
   "id": "5b014f5b",
   "metadata": {},
   "outputs": [
    {
     "data": {
      "image/png": "[encoded data removed]",
      "text/plain": [
       "plot without title"
      ]
     },
     "metadata": {},
     "output_type": "display_data"
    },
    {
     "data": {
      "image/png": "[encoded data removed]",
      "text/plain": [
       "plot without title"
      ]
     },
     "metadata": {},
     "output_type": "display_data"
    }
   ],
   "source": [
    "# Create boxplot for TravelHr variable\n",
    "M2 %>% filter(TravelHr > 0 & TravelHr < 20) %>% ggplot(aes(x = TravelHr)) + geom_boxplot() \n",
    "M2 %>% filter(TravelHr > 0 & TravelHr < 10) %>% ggplot(aes(x = TravelHr)) + geom_boxplot() #Cap at 10 hr "
   ]
  },
  {
   "cell_type": "code",
   "execution_count": 41,
   "id": "a4e93081",
   "metadata": {},
   "outputs": [
    {
     "name": "stdout",
     "output_type": "stream",
     "text": [
      "'data.frame':\t6357 obs. of  36 variables:\n",
      " $ Start_Mth            : num  1 1 1 1 1 1 1 1 1 1 ...\n",
      " $ Time                 : chr  \"Average\" \"Average\" \"Average\" \"Average\" ...\n",
      " $ icon                 : chr  \"executive\" \"executive\" \"executive\" \"executive\" ...\n",
      " $ start_type           : chr  \"asap\" \"reserved\" \"asap\" \"asap\" ...\n",
      " $ start_at             : POSIXct, format: \"2010-01-16 18:58:00\" \"2010-01-12 08:00:00\" ...\n",
      " $ start_lat            : num  -13 -12.1 -12.1 -12.1 -12.1 ...\n",
      " $ start_lon            : num  -77.4 -77.4 -77.2 -77 -77.2 ...\n",
      " $ end_at               : POSIXct, format: \"2010-01-16 19:13:00\" \"2010-01-12 08:23:00\" ...\n",
      " $ end_lat              : num  -12.9 -12.2 -12 -12 -12 ...\n",
      " $ end_lon              : num  -77.259 -77.114 0.387 0.186 0.255 ...\n",
      " $ end_state            : chr  \"drop off\" \"drop off\" \"drop off\" \"drop off\" ...\n",
      " $ arrived_at           : POSIXct, format: \"2010-01-16 19:05:00\" \"2010-01-12 07:48:00\" ...\n",
      " $ price                : num  1700 5023 2200 2507 4761 ...\n",
      " $ price_distance       : num  436 4801 227 1674 4655 ...\n",
      " $ price_duration       : num  185 222 230 833 106 286 34 444 12 99 ...\n",
      " $ distance             : num  1363 15004 710 5231 14548 ...\n",
      " $ duration             : num  222 266 276 1000 127 344 41 533 15 160 ...\n",
      " $ cost                 : num  1700 3765 1900 1872 3570 ...\n",
      " $ cost_distance        : num  327 3601 170 1255 3492 ...\n",
      " $ cost_duration        : num  137 164 170 617 78 212 25 329 9 99 ...\n",
      " $ source               : chr  \"Android\" \"iPhone\" \"iPhone\" \"Android\" ...\n",
      " $ driver_score         : num  0 5 0 5 5 5 5 5 5 0 ...\n",
      " $ rider_score          : num  5 5 5 5 5 5 5 5 5 5 ...\n",
      " $ Start_Yr             : num  2010 2010 2010 2010 2010 2010 2010 2010 2010 2010 ...\n",
      " $ Start_Hr             : int  18 8 21 19 9 11 18 18 18 21 ...\n",
      " $ End_Yr               : num  2010 2010 2010 2010 2010 2010 2010 2010 2010 2010 ...\n",
      " $ End_Mth              : num  1 1 1 1 1 1 1 1 1 1 ...\n",
      " $ End_Hr               : int  19 8 21 19 10 12 18 19 18 21 ...\n",
      " $ Temp                 : num  24 24 24 24 24 24 24 24 24 24 ...\n",
      " $ Interval             :Formal class 'Interval' [package \"lubridate\"] with 3 slots\n",
      "  .. ..@ .Data: num  900 1380 2100 1680 2340 1860 120 2880 60 180 ...\n",
      "  .. ..@ start: POSIXct, format: \"2010-01-16 18:58:00\" \"2010-01-12 08:00:00\" ...\n",
      "  .. ..@ tzone: chr \"UTC\"\n",
      " $ Travel               : num  900 1380 2100 1680 2340 1860 120 2880 60 180 ...\n",
      " $ TravelHr             : num  0.25 0.38 0.58 0.47 0.65 0.52 0.03 0.8 0.02 0.05 ...\n",
      " $ distHaversine        : num  11.2 34.4 8415.3 8368.5 8396.4 ...\n",
      " $ distVincentyEllipsoid: num  11.1 34.4 8416.5 8369.7 8397.6 ...\n",
      " $ distGeo              : num  11.1 34.4 8416.5 8369.7 8397.6 ...\n",
      " $ AveSpeed             : num  44.6 90.5 14511.2 17807.9 12919.3 ...\n"
     ]
    }
   ],
   "source": [
    "# Cap TravelHr at less than 2 Hr\n",
    "M3 <- M2 %>% filter(TravelHr > 0 & TravelHr < 2) \n",
    "str(M3) #6300 obs"
   ]
  },
  {
   "cell_type": "code",
   "execution_count": 42,
   "id": "f3f960ed",
   "metadata": {},
   "outputs": [
    {
     "data": {
      "image/png": "[encoded data removed]",
      "text/plain": [
       "plot without title"
      ]
     },
     "metadata": {},
     "output_type": "display_data"
    }
   ],
   "source": [
    "# Create histogram for TravelHr variable\n",
    "M3 %>% ggplot(aes(x = TravelHr)) + geom_histogram(bins = 30, fill = 'purple', color = 'blue', alpha = 0.4) #Median is ~0.5hr"
   ]
  },
  {
   "cell_type": "code",
   "execution_count": 43,
   "id": "f11c7efa",
   "metadata": {},
   "outputs": [
    {
     "data": {
      "image/png": "[encoded data removed]",
      "text/plain": [
       "plot without title"
      ]
     },
     "metadata": {},
     "output_type": "display_data"
    },
    {
     "data": {
      "image/png": "[encoded data removed]",
      "text/plain": [
       "plot without title"
      ]
     },
     "metadata": {},
     "output_type": "display_data"
    }
   ],
   "source": [
    "#Question: Looking at distribution of Average speeds and its median\n",
    "M3 %>% ggplot(aes(x = AveSpeed)) + geom_boxplot()\n",
    "M3 %>% ggplot(aes(x = AveSpeed)) + geom_histogram(bins = 100, fill = \"blue\", alpha = 0.5)"
   ]
  },
  {
   "cell_type": "code",
   "execution_count": 44,
   "id": "78763969",
   "metadata": {},
   "outputs": [
    {
     "data": {
      "image/png": "[encoded data removed]",
      "text/plain": [
       "plot without title"
      ]
     },
     "metadata": {},
     "output_type": "display_data"
    },
    {
     "data": {
      "image/png": "[encoded data removed]",
      "text/plain": [
       "plot without title"
      ]
     },
     "metadata": {},
     "output_type": "display_data"
    }
   ],
   "source": [
    "M3 %>% filter(AveSpeed < 200) %>% ggplot(aes(x = AveSpeed)) + geom_histogram(bins = 100, fill = \"blue\", alpha = 0.5)\n",
    "M3 %>% filter(AveSpeed < 200) %>% ggplot(aes(x = AveSpeed)) + geom_boxplot() #Median is around 60/70 kmh"
   ]
  },
  {
   "cell_type": "code",
   "execution_count": 45,
   "id": "0c0f9c73",
   "metadata": {},
   "outputs": [
    {
     "data": {
      "image/png": "[encoded data removed]",
      "text/plain": [
       "plot without title"
      ]
     },
     "metadata": {},
     "output_type": "display_data"
    }
   ],
   "source": [
    "#Question: Number of trips by the hour of the day\n",
    "M4 <- M3 %>% count(Start_Hr)\n",
    "M4 %>% ggplot(aes(x = Start_Hr, y = n)) + geom_point(color = \"blue\") + geom_line()#Peak rides occur between 1-2pm and 9-10p"
   ]
  },
  {
   "cell_type": "code",
   "execution_count": 46,
   "id": "6f84b520",
   "metadata": {},
   "outputs": [
    {
     "data": {
      "image/png": "[encoded data removed]",
      "text/plain": [
       "plot without title"
      ]
     },
     "metadata": {},
     "output_type": "display_data"
    }
   ],
   "source": [
    "#Ques: Number of trips by temp of the day\n",
    "M5 <- M3 %>% count(Temp)\n",
    "M5 %>% ggplot(aes(x = Temp, y = n)) + geom_point(color = \"blue\") + geom_line() #Most rides happenned in early morning and late nights"
   ]
  },
  {
   "cell_type": "code",
   "execution_count": 47,
   "id": "c77fb1c6",
   "metadata": {},
   "outputs": [
    {
     "data": {
      "image/png": "[encoded data removed]",
      "text/plain": [
       "plot without title"
      ]
     },
     "metadata": {},
     "output_type": "display_data"
    }
   ],
   "source": [
    "#Question: Number of trips by hour of the day by icon and start_type\n",
    "ggplot(M3, aes(Start_Hr)) + geom_bar(aes(fill = icon)) + facet_wrap(~start_type) #Majority of executive rides are asap"
   ]
  }
 ],
 "metadata": {
  "kernelspec": {
   "display_name": "R",
   "language": "R",
   "name": "ir"
  },
  "language_info": {
   "codemirror_mode": "r",
   "file_extension": ".r",
   "mimetype": "text/x-r-source",
   "name": "R",
   "pygments_lexer": "r",
   "version": "3.6.1"
  }
 },
 "nbformat": 4,
 "nbformat_minor": 5
}
